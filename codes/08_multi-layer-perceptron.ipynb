{
 "cells": [
  {
   "cell_type": "markdown",
   "metadata": {},
   "source": [
    "# Dependencies"
   ]
  },
  {
   "cell_type": "code",
   "execution_count": 1,
   "metadata": {},
   "outputs": [],
   "source": [
    "import torch\n",
    "from torch.utils.data import DataLoader, random_split\n",
    "\n",
    "from torchvision import transforms\n",
    "from torchvision.datasets import MNIST\n",
    "\n",
    "from torchsummary import summary\n",
    "\n",
    "from torchmetrics import Accuracy, ConfusionMatrix\n",
    "\n",
    "import matplotlib.pyplot as plt\n",
    "\n",
    "from sklearn.metrics import classification_report"
   ]
  },
  {
   "cell_type": "code",
   "execution_count": 2,
   "metadata": {},
   "outputs": [],
   "source": [
    "# set a fixed seed\n",
    "seed = 42\n",
    "torch.manual_seed(seed)\n",
    "torch.cuda.manual_seed(seed)"
   ]
  },
  {
   "cell_type": "code",
   "execution_count": 3,
   "metadata": {},
   "outputs": [
    {
     "data": {
      "text/plain": [
       "'cuda'"
      ]
     },
     "execution_count": 3,
     "metadata": {},
     "output_type": "execute_result"
    }
   ],
   "source": [
    "# check if cuda is available\n",
    "device = 'cuda' if torch.cuda.is_available() else 'cpu'\n",
    "device"
   ]
  },
  {
   "cell_type": "markdown",
   "metadata": {},
   "source": [
    "# Load Dataset"
   ]
  },
  {
   "cell_type": "code",
   "execution_count": 4,
   "metadata": {},
   "outputs": [
    {
     "name": "stdout",
     "output_type": "stream",
     "text": [
      "trainset.data.shape    : torch.Size([60000, 28, 28])\n",
      "trainset.targets.shape : torch.Size([60000])\n",
      "--------------------------------------------------\n",
      "trainset[0][0].shape   : torch.Size([1, 28, 28])\n",
      "trainset[0][1]         : 5\n"
     ]
    }
   ],
   "source": [
    "# load the MNIST dataset\n",
    "trainset = MNIST(root= './dataset', train= True , download= True, transform= transforms.ToTensor())\n",
    "testset  = MNIST(root= './dataset', train= False, download= True, transform= transforms.ToTensor())\n",
    "\n",
    "# log\n",
    "print(f\"trainset.data.shape    : {trainset.data.shape}\")    # it doesn't explicitly include the channel dimension for MNIST e.g. [60000, 1, 28, 28]\n",
    "print(f\"trainset.targets.shape : {trainset.targets.shape}\")\n",
    "print('-' * 50)\n",
    "print(f\"trainset[0][0].shape   : {trainset[0][0].shape}\")\n",
    "print(f\"trainset[0][1]         : {trainset[0][1]}\")"
   ]
  },
  {
   "cell_type": "code",
   "execution_count": null,
   "metadata": {},
   "outputs": [],
   "source": [
    "# plot\n",
    "fig, axs = plt.subplots(nrows= 4, ncols= 8, figsize= (12, 6), layout= 'compressed')\n",
    "for i in range(4):\n",
    "    for j in range(8):\n",
    "        axs[i, j].imshow(trainset.data[i * 8 + j], cmap= 'gray')\n",
    "        axs[i, j].set_title(trainset.classes[trainset.targets[i * 8 + j]])\n",
    "        axs[i, j].axis('off')\n",
    "plt.show()"
   ]
  },
  {
   "cell_type": "markdown",
   "metadata": {},
   "source": [
    "# Pre-Processing"
   ]
  },
  {
   "cell_type": "markdown",
   "metadata": {},
   "source": [
    "## Split trainset into [trainset, validationset]"
   ]
  },
  {
   "cell_type": "code",
   "execution_count": 6,
   "metadata": {},
   "outputs": [
    {
     "name": "stdout",
     "output_type": "stream",
     "text": [
      "trainset:\n",
      "    -> len(trainset): 54000\n",
      "    -> trainset.dataset[0][0]: torch.Size([1, 28, 28])\n",
      "    -> trainset.dataset[0][1]: 5\n",
      "\n",
      "validationset:\n",
      "    -> len(validationset): 6000\n",
      "    -> validationset.dataset[0][0]: torch.Size([1, 28, 28])\n",
      "    -> validationset.dataset[0][1]: 5\n",
      "\n",
      "testset:\n",
      "    -> len(testset): 10000\n",
      "    -> testset[0][0]: torch.Size([1, 28, 28])\n",
      "    -> testset[0][1]: 7\n"
     ]
    }
   ],
   "source": [
    "# 90% trainset & 10% validationset\n",
    "validation_size = int(0.1 * len(trainset))\n",
    "train_size = len(trainset) - validation_size\n",
    "\n",
    "# random split\n",
    "trainset, validationset = random_split(trainset, [train_size, validation_size])\n",
    "\n",
    "# log\n",
    "print('trainset:')\n",
    "print(f\"    -> len(trainset): {len(trainset)}\")\n",
    "print(f\"    -> trainset.dataset[0][0]: {trainset.dataset[0][0].shape}\")\n",
    "print(f\"    -> trainset.dataset[0][1]: {trainset.dataset[0][1]}\\n\")\n",
    "print('validationset:')\n",
    "print(f\"    -> len(validationset): {len(validationset)}\")\n",
    "print(f\"    -> validationset.dataset[0][0]: {validationset.dataset[0][0].shape}\")\n",
    "print(f\"    -> validationset.dataset[0][1]: {validationset.dataset[0][1]}\\n\")\n",
    "print('testset:')\n",
    "print(f\"    -> len(testset): {len(testset)}\")\n",
    "print(f\"    -> testset[0][0]: {testset[0][0].shape}\")\n",
    "print(f\"    -> testset[0][1]: {testset[0][1]}\")"
   ]
  },
  {
   "cell_type": "markdown",
   "metadata": {},
   "source": [
    "## Normalization\n",
    "   1. Min-Max Normalization\n",
    "      - 0-1 Normalization\n",
    "         - Scales the pixel values to [0, 1] range\n",
    "      - ...\n",
    "   2. Mean-STD Normalization\n",
    "      - Standardization (Z-score normalization)\n",
    "         - Transforms the data to have a mean of 0 and a standard deviation of 1\n",
    "      - Mean Normalization\n",
    "         - It centers the data around zero\n",
    "      - Scale and Center Images\n",
    "         - Rescale the pixel values to have a mean of 0.5 and a standard deviation of 0.5\n",
    "      - ...\n",
    "   3. ...\n"
   ]
  },
  {
   "cell_type": "code",
   "execution_count": 7,
   "metadata": {},
   "outputs": [],
   "source": [
    "# create a temporary DataLoader for the trainset\n",
    "temp_trainloader = DataLoader(trainset, batch_size= len(trainset))\n",
    "\n",
    "# get the whole data\n",
    "temp_dataset = next(iter(temp_trainloader))\n",
    "\n",
    "# calculate the mean and standard deviation\n",
    "train_mean = temp_dataset[0].mean().item() # 0.1307\n",
    "train_std  = temp_dataset[0].std().item()  # 0.3081\n",
    "\n",
    "del temp_trainloader\n",
    "del temp_dataset"
   ]
  },
  {
   "cell_type": "markdown",
   "metadata": {},
   "source": [
    "## Transform\n",
    "   - on-the-fly data augmentation\n",
    "   - Disadvantage:\n",
    "      - same transform applies to the same data in each epoch\n",
    "   - Advantage:\n",
    "      - Reduced Memory Usage, Regularization & Data Diversity [random transforms e.g. RancomCrop]"
   ]
  },
  {
   "cell_type": "code",
   "execution_count": 8,
   "metadata": {},
   "outputs": [],
   "source": [
    "transform = transforms.Compose([\n",
    "    transforms.ToTensor(),                      # convert a PIL Image or ndarray to tensor and scale the values accordingly.\n",
    "    transforms.Normalize(train_mean, train_std)\n",
    "])\n",
    "\n",
    "trainset.dataset.transform = transform\n",
    "validationset.dataset.transform = transform\n",
    "testset.transform = transform"
   ]
  },
  {
   "cell_type": "markdown",
   "metadata": {},
   "source": [
    "## DataLoader"
   ]
  },
  {
   "cell_type": "code",
   "execution_count": 9,
   "metadata": {},
   "outputs": [],
   "source": [
    "batch_size = 64\n",
    "\n",
    "trainloader      = DataLoader(dataset= trainset     , batch_size = batch_size, shuffle= True , num_workers= 2)\n",
    "validationloader = DataLoader(dataset= validationset, batch_size = batch_size, shuffle= False, num_workers= 2)\n",
    "testloader       = DataLoader(dataset= testset      , batch_size = batch_size, shuffle= False, num_workers= 2)"
   ]
  },
  {
   "cell_type": "code",
   "execution_count": 10,
   "metadata": {},
   "outputs": [
    {
     "name": "stdout",
     "output_type": "stream",
     "text": [
      "trainloader      first batch     -> x.shape: torch.Size([64, 1, 28, 28]) - y.shape: torch.Size([64])\n",
      "validationloader first batch     -> x.shape: torch.Size([64, 1, 28, 28]) - y.shape: torch.Size([64])\n",
      "testloader       first batch     -> x.shape: torch.Size([64, 1, 28, 28]) - y.shape: torch.Size([64])\n",
      "trainloader      last batch-size -> 48\n",
      "validationloader last batch-size -> 48\n",
      "testloader       last batch-size -> 16\n"
     ]
    }
   ],
   "source": [
    "first_train_batch      = next(iter(trainloader))\n",
    "first_validation_batch = next(iter(validationloader))\n",
    "first_test_batch       = next(iter(testloader))\n",
    "\n",
    "print(f\"trainloader      first batch     -> x.shape: {first_train_batch[0].shape} - y.shape: {first_train_batch[1].shape}\")\n",
    "print(f\"validationloader first batch     -> x.shape: {first_validation_batch[0].shape} - y.shape: {first_validation_batch[1].shape}\")\n",
    "print(f\"testloader       first batch     -> x.shape: {first_test_batch[0].shape} - y.shape: {first_test_batch[1].shape}\")\n",
    "print(f\"trainloader      last batch-size -> {len(trainset) % batch_size}\")\n",
    "print(f\"validationloader last batch-size -> {len(validationset) % batch_size}\")\n",
    "print(f\"testloader       last batch-size -> {len(testset) % batch_size}\")"
   ]
  },
  {
   "cell_type": "markdown",
   "metadata": {},
   "source": [
    "# Network Structure\n",
    "   - Sequential Model\n",
    "      - Use torch.nn.Sequential to create a sequence of layers or modules\n",
    "   - Functional Model\n",
    "      - for stateless operations like activation functions, loss functions, and other operations within the forward method of custom modules or in custom functions\n",
    "   - Mixed Model\n",
    "\n",
    "Note:\n",
    "   - loss function : \n",
    "      - multi-class classification : `torch.nn.CrossEntropyLoss()`\n",
    "   - activation function [last layer]:\n",
    "      - multi-class classification : `torch.nn.Softmax()`\n",
    "      - we does not include softmax in the last layer because torch's CrossEntropyLoss already use softmax inside itself\n",
    "   "
   ]
  },
  {
   "cell_type": "markdown",
   "metadata": {},
   "source": [
    "![alt text](resources/images/mlp.svg)"
   ]
  },
  {
   "cell_type": "code",
   "execution_count": 11,
   "metadata": {},
   "outputs": [],
   "source": [
    "# layers\n",
    "depth, height, width = trainset[0][0].shape\n",
    "\n",
    "input_dim  = depth * height * width\n",
    "hidden_dim = [64, 32]\n",
    "output_dim = len(testset.classes)"
   ]
  },
  {
   "cell_type": "markdown",
   "metadata": {},
   "source": [
    "## Sequential Model"
   ]
  },
  {
   "cell_type": "code",
   "execution_count": 12,
   "metadata": {},
   "outputs": [],
   "source": [
    "sequential_model = torch.nn.Sequential(\n",
    "    torch.nn.Flatten(start_dim= 1),\n",
    "\n",
    "    torch.nn.Linear(input_dim, hidden_dim[0]),\n",
    "    torch.nn.ReLU(),\n",
    "\n",
    "    torch.nn.Linear(hidden_dim[0], hidden_dim[1]),\n",
    "    torch.nn.ReLU(),\n",
    "    \n",
    "    torch.nn.Linear(hidden_dim[1], output_dim),\n",
    "    # softmax is already satisfied inside CrossEntropyLoss()\n",
    ")"
   ]
  },
  {
   "cell_type": "code",
   "execution_count": 13,
   "metadata": {},
   "outputs": [
    {
     "data": {
      "text/plain": [
       "Sequential(\n",
       "  (0): Flatten(start_dim=1, end_dim=-1)\n",
       "  (1): Linear(in_features=784, out_features=64, bias=True)\n",
       "  (2): ReLU()\n",
       "  (3): Linear(in_features=64, out_features=32, bias=True)\n",
       "  (4): ReLU()\n",
       "  (5): Linear(in_features=32, out_features=10, bias=True)\n",
       ")"
      ]
     },
     "execution_count": 13,
     "metadata": {},
     "output_type": "execute_result"
    }
   ],
   "source": [
    "sequential_model.to(device)"
   ]
  },
  {
   "cell_type": "code",
   "execution_count": 14,
   "metadata": {},
   "outputs": [
    {
     "name": "stdout",
     "output_type": "stream",
     "text": [
      "----------------------------------------------------------------\n",
      "        Layer (type)               Output Shape         Param #\n",
      "================================================================\n",
      "           Flatten-1                  [-1, 784]               0\n",
      "            Linear-2                   [-1, 64]          50,240\n",
      "              ReLU-3                   [-1, 64]               0\n",
      "            Linear-4                   [-1, 32]           2,080\n",
      "              ReLU-5                   [-1, 32]               0\n",
      "            Linear-6                   [-1, 10]             330\n",
      "================================================================\n",
      "Total params: 52,650\n",
      "Trainable params: 52,650\n",
      "Non-trainable params: 0\n",
      "----------------------------------------------------------------\n",
      "Input size (MB): 0.00\n",
      "Forward/backward pass size (MB): 0.01\n",
      "Params size (MB): 0.20\n",
      "Estimated Total Size (MB): 0.21\n",
      "----------------------------------------------------------------\n"
     ]
    }
   ],
   "source": [
    "summary(sequential_model, (1,  width,  height))"
   ]
  },
  {
   "cell_type": "markdown",
   "metadata": {},
   "source": [
    "## Functional Model"
   ]
  },
  {
   "cell_type": "code",
   "execution_count": 15,
   "metadata": {},
   "outputs": [],
   "source": [
    "class FunctionalModel(torch.nn.Module):\n",
    "    def __init__(self, input_dim, output_dim):\n",
    "        super(FunctionalModel, self).__init__()\n",
    "        self.flatten = torch.nn.Flatten(start_dim= 1)\n",
    "        self.linear1 = torch.nn.Linear(input_dim, hidden_dim[0])\n",
    "        self.relu1   = torch.nn.ReLU()\n",
    "        self.linear2 = torch.nn.Linear(hidden_dim[0], hidden_dim[1])\n",
    "        self.relu2   = torch.nn.ReLU()\n",
    "        self.linear3 = torch.nn.Linear(hidden_dim[1], output_dim)\n",
    "        # softmax is already satisfied inside CrossEntropyLoss()\n",
    "    \n",
    "    def forward(self, x):\n",
    "        x = self.flatten(x)\n",
    "        x = self.linear1(x)\n",
    "        x = self.relu1(x)\n",
    "        x = self.linear2(x)\n",
    "        x = self.relu2(x)\n",
    "        x = self.linear3(x)\n",
    "        return x\n",
    "\n",
    "functional_model = FunctionalModel(input_dim, output_dim)"
   ]
  },
  {
   "cell_type": "code",
   "execution_count": 16,
   "metadata": {},
   "outputs": [
    {
     "data": {
      "text/plain": [
       "FunctionalModel(\n",
       "  (flatten): Flatten(start_dim=1, end_dim=-1)\n",
       "  (linear1): Linear(in_features=784, out_features=64, bias=True)\n",
       "  (relu1): ReLU()\n",
       "  (linear2): Linear(in_features=64, out_features=32, bias=True)\n",
       "  (relu2): ReLU()\n",
       "  (linear3): Linear(in_features=32, out_features=10, bias=True)\n",
       ")"
      ]
     },
     "execution_count": 16,
     "metadata": {},
     "output_type": "execute_result"
    }
   ],
   "source": [
    "functional_model.to(device)"
   ]
  },
  {
   "cell_type": "code",
   "execution_count": 17,
   "metadata": {},
   "outputs": [
    {
     "name": "stdout",
     "output_type": "stream",
     "text": [
      "----------------------------------------------------------------\n",
      "        Layer (type)               Output Shape         Param #\n",
      "================================================================\n",
      "           Flatten-1                  [-1, 784]               0\n",
      "            Linear-2                   [-1, 64]          50,240\n",
      "              ReLU-3                   [-1, 64]               0\n",
      "            Linear-4                   [-1, 32]           2,080\n",
      "              ReLU-5                   [-1, 32]               0\n",
      "            Linear-6                   [-1, 10]             330\n",
      "================================================================\n",
      "Total params: 52,650\n",
      "Trainable params: 52,650\n",
      "Non-trainable params: 0\n",
      "----------------------------------------------------------------\n",
      "Input size (MB): 0.00\n",
      "Forward/backward pass size (MB): 0.01\n",
      "Params size (MB): 0.20\n",
      "Estimated Total Size (MB): 0.21\n",
      "----------------------------------------------------------------\n"
     ]
    }
   ],
   "source": [
    "summary(functional_model, (1,  width,  height))"
   ]
  },
  {
   "cell_type": "markdown",
   "metadata": {},
   "source": [
    "## Mixed Model"
   ]
  },
  {
   "cell_type": "code",
   "execution_count": 18,
   "metadata": {},
   "outputs": [],
   "source": [
    "class MixModel(torch.nn.Module):\n",
    "    def __init__(self, input_dim, output_dim):\n",
    "        super(MixModel, self).__init__()\n",
    "        self.classifier = torch.nn.Sequential(\n",
    "            torch.nn.Flatten(start_dim= 1),\n",
    "            torch.nn.Linear(input_dim, hidden_dim[0]),\n",
    "            torch.nn.ReLU(),\n",
    "            torch.nn.Linear(hidden_dim[0], hidden_dim[1]),\n",
    "            torch.nn.ReLU(),\n",
    "            torch.nn.Linear(hidden_dim[1], output_dim),\n",
    "            # softmax is already satisfied inside CrossEntropyLoss()\n",
    "        )\n",
    "    \n",
    "    def forward(self, x):\n",
    "        x = self.classifier(x)\n",
    "        return x\n",
    "\n",
    "mix_model = MixModel(input_dim, output_dim)"
   ]
  },
  {
   "cell_type": "code",
   "execution_count": 19,
   "metadata": {},
   "outputs": [
    {
     "data": {
      "text/plain": [
       "MixModel(\n",
       "  (classifier): Sequential(\n",
       "    (0): Flatten(start_dim=1, end_dim=-1)\n",
       "    (1): Linear(in_features=784, out_features=64, bias=True)\n",
       "    (2): ReLU()\n",
       "    (3): Linear(in_features=64, out_features=32, bias=True)\n",
       "    (4): ReLU()\n",
       "    (5): Linear(in_features=32, out_features=10, bias=True)\n",
       "  )\n",
       ")"
      ]
     },
     "execution_count": 19,
     "metadata": {},
     "output_type": "execute_result"
    }
   ],
   "source": [
    "mix_model.to(device)"
   ]
  },
  {
   "cell_type": "code",
   "execution_count": 20,
   "metadata": {},
   "outputs": [
    {
     "name": "stdout",
     "output_type": "stream",
     "text": [
      "----------------------------------------------------------------\n",
      "        Layer (type)               Output Shape         Param #\n",
      "================================================================\n",
      "           Flatten-1                  [-1, 784]               0\n",
      "            Linear-2                   [-1, 64]          50,240\n",
      "              ReLU-3                   [-1, 64]               0\n",
      "            Linear-4                   [-1, 32]           2,080\n",
      "              ReLU-5                   [-1, 32]               0\n",
      "            Linear-6                   [-1, 10]             330\n",
      "================================================================\n",
      "Total params: 52,650\n",
      "Trainable params: 52,650\n",
      "Non-trainable params: 0\n",
      "----------------------------------------------------------------\n",
      "Input size (MB): 0.00\n",
      "Forward/backward pass size (MB): 0.01\n",
      "Params size (MB): 0.20\n",
      "Estimated Total Size (MB): 0.21\n",
      "----------------------------------------------------------------\n"
     ]
    }
   ],
   "source": [
    "summary(mix_model, (1,  width,  height))"
   ]
  },
  {
   "cell_type": "markdown",
   "metadata": {},
   "source": [
    "# Set up remaining Hyper-Parameters"
   ]
  },
  {
   "cell_type": "code",
   "execution_count": 21,
   "metadata": {},
   "outputs": [],
   "source": [
    "model = sequential_model"
   ]
  },
  {
   "cell_type": "code",
   "execution_count": 22,
   "metadata": {},
   "outputs": [],
   "source": [
    "lr = 0.01\n",
    "criterion = torch.nn.CrossEntropyLoss()\n",
    "optimizer = torch.optim.Adam(params= model.parameters(), lr= lr)\n",
    "num_epochs = 15"
   ]
  },
  {
   "cell_type": "markdown",
   "metadata": {},
   "source": [
    "# Train & Validation Loop"
   ]
  },
  {
   "cell_type": "code",
   "execution_count": 23,
   "metadata": {},
   "outputs": [],
   "source": [
    "train_acc_per_epoch  = []\n",
    "train_loss_per_epoch = []\n",
    "val_acc_per_epoch  = []\n",
    "val_loss_per_epoch = []"
   ]
  },
  {
   "cell_type": "code",
   "execution_count": 24,
   "metadata": {},
   "outputs": [],
   "source": [
    "train_acc = Accuracy(task = 'multiclass', num_classes= len(testset.classes), top_k= 1).to(device)\n",
    "val_acc   = Accuracy(task = 'multiclass', num_classes= len(testset.classes), top_k= 1).to(device)"
   ]
  },
  {
   "cell_type": "code",
   "execution_count": 25,
   "metadata": {},
   "outputs": [
    {
     "name": "stdout",
     "output_type": "stream",
     "text": [
      "epoch  0  ->  train[loss: 0.29456 - acc: 0.91] | validation[loss: 0.20450 - acc: 0.94]\n",
      "epoch  1  ->  train[loss: 0.18648 - acc: 0.95] | validation[loss: 0.21168 - acc: 0.94]\n",
      "epoch  2  ->  train[loss: 0.17149 - acc: 0.95] | validation[loss: 0.19605 - acc: 0.95]\n",
      "epoch  3  ->  train[loss: 0.15955 - acc: 0.96] | validation[loss: 0.20097 - acc: 0.95]\n",
      "epoch  4  ->  train[loss: 0.15570 - acc: 0.96] | validation[loss: 0.20038 - acc: 0.95]\n",
      "epoch  5  ->  train[loss: 0.14224 - acc: 0.96] | validation[loss: 0.19857 - acc: 0.95]\n",
      "epoch  6  ->  train[loss: 0.14045 - acc: 0.96] | validation[loss: 0.18619 - acc: 0.95]\n",
      "epoch  7  ->  train[loss: 0.13501 - acc: 0.97] | validation[loss: 0.17799 - acc: 0.96]\n",
      "epoch  8  ->  train[loss: 0.13111 - acc: 0.97] | validation[loss: 0.21187 - acc: 0.95]\n",
      "epoch  9  ->  train[loss: 0.12707 - acc: 0.97] | validation[loss: 0.23307 - acc: 0.95]\n",
      "epoch 10  ->  train[loss: 0.13033 - acc: 0.97] | validation[loss: 0.21427 - acc: 0.95]\n",
      "epoch 11  ->  train[loss: 0.12393 - acc: 0.97] | validation[loss: 0.24146 - acc: 0.95]\n",
      "epoch 12  ->  train[loss: 0.12063 - acc: 0.97] | validation[loss: 0.20561 - acc: 0.96]\n",
      "epoch 13  ->  train[loss: 0.12091 - acc: 0.97] | validation[loss: 0.24805 - acc: 0.95]\n",
      "epoch 14  ->  train[loss: 0.11267 - acc: 0.97] | validation[loss: 0.22731 - acc: 0.96]\n"
     ]
    }
   ],
   "source": [
    "for epoch in range(num_epochs):\n",
    "\n",
    "    # train loop\n",
    "    model.train()\n",
    "    train_loss = 0\n",
    "\n",
    "    for x, y in trainloader:\n",
    "\n",
    "        # send data to gpu\n",
    "        x, y_true = x.to(device), y.to(device)\n",
    "\n",
    "        # forward\n",
    "        y_pred = model(x)\n",
    "        loss = criterion(y_pred, y_true)\n",
    "\n",
    "        # backward\n",
    "        loss.backward()\n",
    "\n",
    "        # update parameters\n",
    "        optimizer.step()\n",
    "        optimizer.zero_grad()\n",
    "\n",
    "        # log loss & accuracy\n",
    "        train_loss += loss.item() * len(x)\n",
    "        train_acc.update(y_pred, y_true)\n",
    "\n",
    "    train_loss_per_epoch.append(train_loss / len(trainset))\n",
    "    train_acc_per_epoch.append(train_acc.compute().item())\n",
    "    train_acc.reset()\n",
    "\n",
    "\n",
    "    # validation loop\n",
    "    model.eval()\n",
    "    val_loss = 0\n",
    "\n",
    "    with torch.no_grad():\n",
    "        for x, y in validationloader:\n",
    "\n",
    "            # send data to gpu\n",
    "            x, y_true = x.to(device), y.to(device)\n",
    "\n",
    "            # forward\n",
    "            y_pred = model(x)\n",
    "            loss = criterion(y_pred, y_true)\n",
    "\n",
    "            # log loss & accuracy\n",
    "            val_loss += loss.item() * len(x)\n",
    "            val_acc.update(y_pred, y_true)\n",
    "    \n",
    "    val_loss_per_epoch.append(val_loss / len(validationset))\n",
    "    val_acc_per_epoch.append(val_acc.compute().item())\n",
    "    val_acc.reset()\n",
    "    \n",
    "\n",
    "    # log\n",
    "    print(f\"epoch {epoch:>2}  ->  train[loss: {train_loss_per_epoch[epoch]:.5f} - acc: {train_acc_per_epoch[epoch]:.2f}] | validation[loss: {val_loss_per_epoch[epoch]:.5f} - acc: {val_acc_per_epoch[epoch]:.2f}]\")\n"
   ]
  },
  {
   "cell_type": "markdown",
   "metadata": {},
   "source": [
    "## Learning Analysis"
   ]
  },
  {
   "cell_type": "code",
   "execution_count": null,
   "metadata": {},
   "outputs": [],
   "source": [
    "# plot\n",
    "fig, axs = plt.subplots(nrows= 1, ncols= 2, figsize= (10, 4), layout= 'compressed')\n",
    "\n",
    "axs[0].plot(train_loss_per_epoch, label= 'Train loss')\n",
    "axs[0].plot(val_loss_per_epoch, label= 'Validation loss')\n",
    "axs[0].set(xlabel= 'Epoch', ylabel= 'Loss', title= \"Loss over time\")\n",
    "axs[0].legend()\n",
    "\n",
    "axs[1].plot(train_acc_per_epoch, label= 'Train accuracy')\n",
    "axs[1].plot(val_acc_per_epoch, label= 'Validation accuracy')\n",
    "axs[1].set(xlabel= 'Epoch', ylabel= 'Accuracy', title= \"Accuracy over time\")\n",
    "axs[1].legend()\n",
    "\n",
    "plt.show()"
   ]
  },
  {
   "cell_type": "markdown",
   "metadata": {},
   "source": [
    "# Test Loop"
   ]
  },
  {
   "cell_type": "code",
   "execution_count": 27,
   "metadata": {},
   "outputs": [],
   "source": [
    "test_acc = Accuracy(task = 'multiclass', num_classes= len(testset.classes), top_k= 1).to(device)"
   ]
  },
  {
   "cell_type": "code",
   "execution_count": 28,
   "metadata": {},
   "outputs": [
    {
     "name": "stdout",
     "output_type": "stream",
     "text": [
      "test[loss: 0.20450 - acc: 0.96]\n"
     ]
    }
   ],
   "source": [
    "# test loop\n",
    "model.eval()\n",
    "test_loss = 0\n",
    "predictions = []\n",
    "targets = []\n",
    "\n",
    "with torch.no_grad():\n",
    "    for x, y in testloader:\n",
    "\n",
    "        # send data to gpu\n",
    "        x, y_true = x.to(device), y.to(device)\n",
    "\n",
    "        # forward\n",
    "        y_pred = model(x)\n",
    "        loss = criterion(y_pred, y_true)\n",
    "\n",
    "        # log loss & accuracy\n",
    "        test_loss += loss.item() * len(x)\n",
    "        test_acc.update(y_pred, y_true)\n",
    "\n",
    "        targets.extend(y_true.cpu())\n",
    "        predictions.extend(y_pred.argmax(dim= 1).cpu())\n",
    "        \n",
    "\n",
    "print(f\"test[loss: {test_loss / len(testset):.5f} - acc: {test_acc.compute().item():.2f}]\")"
   ]
  },
  {
   "cell_type": "code",
   "execution_count": null,
   "metadata": {},
   "outputs": [],
   "source": [
    "# plot\n",
    "data = next(iter(testloader))[0][:32]\n",
    "\n",
    "fig, axs = plt.subplots(nrows= 4, ncols= 8, figsize= (12, 6), layout= 'compressed')\n",
    "\n",
    "for i in range(4):\n",
    "    for j in range(8):\n",
    "        axs[i, j].imshow(testset.data[i * 8 + j], cmap= 'gray')\n",
    "        axs[i, j].set_title(model.cpu()(data[i * 8 + j]).argmax(dim= 1).item())\n",
    "        axs[i, j].axis('off')\n",
    "\n",
    "plt.show()"
   ]
  },
  {
   "cell_type": "markdown",
   "metadata": {},
   "source": [
    "## Metrics\n",
    "   - loss\n",
    "   - accuracy\n",
    "   - recall\n",
    "   - precision\n",
    "   - f1-score\n",
    "   - ROC Curve\n",
    "   - AUC Curve\n",
    "   - ..."
   ]
  },
  {
   "cell_type": "code",
   "execution_count": 30,
   "metadata": {},
   "outputs": [
    {
     "name": "stdout",
     "output_type": "stream",
     "text": [
      "              precision    recall  f1-score   support\n",
      "\n",
      "           0       0.98      0.98      0.98       980\n",
      "           1       0.96      0.99      0.98      1135\n",
      "           2       0.96      0.96      0.96      1032\n",
      "           3       0.97      0.95      0.96      1010\n",
      "           4       0.97      0.95      0.96       982\n",
      "           5       0.94      0.96      0.95       892\n",
      "           6       0.99      0.96      0.97       958\n",
      "           7       0.97      0.94      0.96      1028\n",
      "           8       0.93      0.95      0.94       974\n",
      "           9       0.92      0.96      0.94      1009\n",
      "\n",
      "    accuracy                           0.96     10000\n",
      "   macro avg       0.96      0.96      0.96     10000\n",
      "weighted avg       0.96      0.96      0.96     10000\n",
      "\n"
     ]
    }
   ],
   "source": [
    "# classification report\n",
    "print(classification_report(targets, predictions))"
   ]
  },
  {
   "cell_type": "code",
   "execution_count": 36,
   "metadata": {},
   "outputs": [
    {
     "name": "stdout",
     "output_type": "stream",
     "text": [
      "tensor([[ 962,    0,    2,    0,    1,    5,    5,    1,    4,    2],\n",
      "        [   1, 1124,    3,    1,    1,    2,    2,   10,   15,    6],\n",
      "        [   1,    4,  995,    4,    8,    0,    3,   13,    4,    1],\n",
      "        [   0,    1,    6,  962,    0,   10,    0,    4,    5,    4],\n",
      "        [   0,    0,    2,    0,  932,    0,    8,    3,    4,   10],\n",
      "        [   3,    2,    3,   10,    0,  852,   17,    1,   10,    6],\n",
      "        [   2,    1,    0,    0,    1,    2,  916,    0,    0,    0],\n",
      "        [   1,    1,    7,    3,    5,    0,    0,  967,    3,    8],\n",
      "        [   8,    2,   13,   14,    2,    4,    7,   15,  922,    4],\n",
      "        [   2,    0,    1,   16,   32,   17,    0,   14,    7,  968]])\n"
     ]
    }
   ],
   "source": [
    "# confusion matrix\n",
    "metric = ConfusionMatrix(task= 'multiclass', num_classes= 10)\n",
    "confusion_matrix = metric(torch.tensor(targets), torch.tensor(predictions))\n",
    "\n",
    "# log\n",
    "print(confusion_matrix)\n",
    "\n",
    "# plot\n",
    "fig, ax = plt.subplots(figsize= (8, 8))\n",
    "metric.plot(ax= ax)\n",
    "plt.show()"
   ]
  }
 ],
 "metadata": {
  "kernelspec": {
   "display_name": "Python 3",
   "language": "python",
   "name": "python3"
  },
  "language_info": {
   "codemirror_mode": {
    "name": "ipython",
    "version": 3
   },
   "file_extension": ".py",
   "mimetype": "text/x-python",
   "name": "python",
   "nbconvert_exporter": "python",
   "pygments_lexer": "ipython3",
   "version": "3.12.2"
  }
 },
 "nbformat": 4,
 "nbformat_minor": 2
}

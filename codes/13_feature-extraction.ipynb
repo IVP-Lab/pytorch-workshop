{
 "cells": [
  {
   "cell_type": "markdown",
   "metadata": {},
   "source": [
    "# Dependencies"
   ]
  },
  {
   "cell_type": "code",
   "execution_count": 1,
   "metadata": {},
   "outputs": [],
   "source": [
    "import numpy as np\n",
    "\n",
    "import torch\n",
    "from torch import nn\n",
    "from torch.optim import Adam\n",
    "from torch.utils.data import DataLoader\n",
    "\n",
    "from torchvision.datasets import CIFAR10\n",
    "from torchvision.transforms import v2\n",
    "from torchvision.models.feature_extraction import create_feature_extractor\n",
    "\n",
    "from torchsummary import summary\n",
    "\n",
    "from torchmetrics import Accuracy\n",
    "\n",
    "import matplotlib.pyplot as plt"
   ]
  },
  {
   "cell_type": "code",
   "execution_count": 2,
   "metadata": {},
   "outputs": [],
   "source": [
    "# set a fixed seed\n",
    "random_state = 42\n",
    "torch.manual_seed(random_state)\n",
    "torch.cuda.manual_seed(random_state)\n",
    "np.random.seed(random_state)"
   ]
  },
  {
   "cell_type": "code",
   "execution_count": 3,
   "metadata": {},
   "outputs": [
    {
     "data": {
      "text/plain": [
       "'cuda'"
      ]
     },
     "execution_count": 3,
     "metadata": {},
     "output_type": "execute_result"
    }
   ],
   "source": [
    "# check if cuda is available\n",
    "device = 'cuda' if torch.cuda.is_available() else 'cpu'\n",
    "device"
   ]
  },
  {
   "cell_type": "markdown",
   "metadata": {},
   "source": [
    "# Load Dataset"
   ]
  },
  {
   "cell_type": "code",
   "execution_count": 4,
   "metadata": {},
   "outputs": [
    {
     "name": "stdout",
     "output_type": "stream",
     "text": [
      "Files already downloaded and verified\n",
      "Files already downloaded and verified\n"
     ]
    }
   ],
   "source": [
    "transform = v2.Compose(\n",
    "    [\n",
    "        v2.ToImage(),\n",
    "        v2.ToDtype(dtype= torch.float32, scale= True),\n",
    "        v2.Normalize(mean= (0.5,), std= (0.5,))\n",
    "    ]\n",
    ")\n",
    "\n",
    "trainset = CIFAR10('./dataset', train= True , transform= transform, download= True)\n",
    "testset  = CIFAR10('./dataset', train= False, transform= transform, download= True)"
   ]
  },
  {
   "cell_type": "code",
   "execution_count": 5,
   "metadata": {},
   "outputs": [],
   "source": [
    "classes = np.array(trainset.classes)\n",
    "num_classes = len(classes)\n",
    "num_trainset, height, width, depth = trainset.data.shape"
   ]
  },
  {
   "cell_type": "code",
   "execution_count": 6,
   "metadata": {},
   "outputs": [],
   "source": [
    "batch_size = 128\n",
    "trainloader = DataLoader(trainset, batch_size= batch_size, shuffle= True , num_workers= 2)\n",
    "testloader  = DataLoader(trainset, batch_size= batch_size, shuffle= False, num_workers= 2)"
   ]
  },
  {
   "cell_type": "markdown",
   "metadata": {},
   "source": [
    "# Model"
   ]
  },
  {
   "cell_type": "code",
   "execution_count": 7,
   "metadata": {},
   "outputs": [
    {
     "data": {
      "text/plain": [
       "CustomModel(\n",
       "  (feature_extractor): Sequential(\n",
       "    (0): Conv2d(3, 16, kernel_size=(3, 3), stride=(1, 1))\n",
       "    (1): BatchNorm2d(16, eps=1e-05, momentum=0.1, affine=True, track_running_stats=True)\n",
       "    (2): ReLU()\n",
       "    (3): MaxPool2d(kernel_size=2, stride=2, padding=0, dilation=1, ceil_mode=False)\n",
       "    (4): Conv2d(16, 32, kernel_size=(3, 3), stride=(1, 1))\n",
       "    (5): BatchNorm2d(32, eps=1e-05, momentum=0.1, affine=True, track_running_stats=True)\n",
       "    (6): ReLU()\n",
       "    (7): MaxPool2d(kernel_size=2, stride=2, padding=0, dilation=1, ceil_mode=False)\n",
       "  )\n",
       "  (flatten): Flatten(start_dim=1, end_dim=-1)\n",
       "  (classifier): Linear(in_features=1152, out_features=10, bias=True)\n",
       ")"
      ]
     },
     "execution_count": 7,
     "metadata": {},
     "output_type": "execute_result"
    }
   ],
   "source": [
    "class CustomModel(nn.Module):\n",
    "    def __init__(self, layers):\n",
    "        super(CustomModel, self).__init__()\n",
    "\n",
    "        feature_extractor_layers = []\n",
    "        for i, o in zip(layers, layers[1:]):\n",
    "            feature_extractor_layers.append(nn.Conv2d(i, out_channels= o, kernel_size= 3))\n",
    "            feature_extractor_layers.append(nn.BatchNorm2d(o))\n",
    "            feature_extractor_layers.append(nn.ReLU())\n",
    "            feature_extractor_layers.append(nn.MaxPool2d(kernel_size= 2))\n",
    "\n",
    "        self.feature_extractor = nn.Sequential(*feature_extractor_layers)\n",
    "        self.flatten = nn.Flatten(start_dim= 1)\n",
    "        self.classifier = nn.Linear(1152, len(classes))\n",
    "    \n",
    "    def forward(self, x):\n",
    "        x = self.feature_extractor(x)\n",
    "        x = self.flatten(x)\n",
    "        x = self.classifier(x)\n",
    "        return x\n",
    "\n",
    "model = CustomModel(layers= [depth, 16, 32])\n",
    "\n",
    "model.to(device)"
   ]
  },
  {
   "cell_type": "code",
   "execution_count": 8,
   "metadata": {},
   "outputs": [
    {
     "name": "stdout",
     "output_type": "stream",
     "text": [
      "----------------------------------------------------------------\n",
      "        Layer (type)               Output Shape         Param #\n",
      "================================================================\n",
      "            Conv2d-1          [128, 16, 30, 30]             448\n",
      "       BatchNorm2d-2          [128, 16, 30, 30]              32\n",
      "              ReLU-3          [128, 16, 30, 30]               0\n",
      "         MaxPool2d-4          [128, 16, 15, 15]               0\n",
      "            Conv2d-5          [128, 32, 13, 13]           4,640\n",
      "       BatchNorm2d-6          [128, 32, 13, 13]              64\n",
      "              ReLU-7          [128, 32, 13, 13]               0\n",
      "         MaxPool2d-8            [128, 32, 6, 6]               0\n",
      "           Flatten-9                [128, 1152]               0\n",
      "           Linear-10                  [128, 10]          11,530\n",
      "================================================================\n",
      "Total params: 16,714\n",
      "Trainable params: 16,714\n",
      "Non-trainable params: 0\n",
      "----------------------------------------------------------------\n",
      "Input size (MB): 1.50\n",
      "Forward/backward pass size (MB): 63.81\n",
      "Params size (MB): 0.06\n",
      "Estimated Total Size (MB): 65.37\n",
      "----------------------------------------------------------------\n"
     ]
    }
   ],
   "source": [
    "summary(model, input_size= testset.data.transpose(0, 3, 1, 2).shape[1:], batch_size= batch_size)"
   ]
  },
  {
   "cell_type": "markdown",
   "metadata": {},
   "source": [
    "# Set up remaining Hyper-Parameters"
   ]
  },
  {
   "cell_type": "code",
   "execution_count": 9,
   "metadata": {},
   "outputs": [],
   "source": [
    "lr = 0.01\n",
    "criterion = nn.CrossEntropyLoss()\n",
    "optimizer = Adam(params= model.parameters(), lr= lr)\n",
    "num_epochs = 10"
   ]
  },
  {
   "cell_type": "markdown",
   "metadata": {},
   "source": [
    "# Train Loop"
   ]
  },
  {
   "cell_type": "code",
   "execution_count": 10,
   "metadata": {},
   "outputs": [],
   "source": [
    "train_acc_per_epoch  = []\n",
    "train_loss_per_epoch = []\n",
    "train_acc = Accuracy(task = 'multiclass', num_classes= len(testset.classes), top_k= 1).to(device)"
   ]
  },
  {
   "cell_type": "code",
   "execution_count": 11,
   "metadata": {},
   "outputs": [
    {
     "name": "stdout",
     "output_type": "stream",
     "text": [
      "epoch 0  ->  train[loss: 1.48925 - acc: 0.49]\n",
      "epoch 1  ->  train[loss: 1.10499 - acc: 0.61]\n",
      "epoch 2  ->  train[loss: 0.99465 - acc: 0.66]\n",
      "epoch 3  ->  train[loss: 0.93405 - acc: 0.68]\n",
      "epoch 4  ->  train[loss: 0.88761 - acc: 0.69]\n",
      "epoch 5  ->  train[loss: 0.85966 - acc: 0.70]\n",
      "epoch 6  ->  train[loss: 0.83669 - acc: 0.71]\n",
      "epoch 7  ->  train[loss: 0.81544 - acc: 0.72]\n",
      "epoch 8  ->  train[loss: 0.79761 - acc: 0.72]\n",
      "epoch 9  ->  train[loss: 0.78995 - acc: 0.73]\n"
     ]
    }
   ],
   "source": [
    "for epoch in range(num_epochs):\n",
    "\n",
    "# train loop\n",
    "    model.train()\n",
    "    train_loss  = 0\n",
    "\n",
    "    for x, y in trainloader:\n",
    "\n",
    "        # send data to GPU\n",
    "        x, y_true = x.to(device), y.to(device)\n",
    "\n",
    "        # forward\n",
    "        y_pred = model(x)\n",
    "        loss = criterion(y_pred, y_true)\n",
    "\n",
    "        # backward\n",
    "        loss.backward()\n",
    "\n",
    "        # update parameters\n",
    "        optimizer.step()\n",
    "        optimizer.zero_grad()\n",
    "\n",
    "        # log loss & accuracy\n",
    "        train_loss += loss.item() * len(x)\n",
    "        train_acc.update(y_pred, y_true)\n",
    "\n",
    "    train_loss_per_epoch.append(train_loss / len(trainset))\n",
    "    train_acc_per_epoch.append(train_acc.compute().item())\n",
    "    train_acc.reset()\n",
    "\n",
    "    # log\n",
    "    print(f\"epoch {epoch:>1}  ->  train[loss: {train_loss_per_epoch[epoch]:.5f} - acc: {train_acc_per_epoch[epoch]:.2f}]\")\n"
   ]
  },
  {
   "cell_type": "markdown",
   "metadata": {},
   "source": [
    "# Feature Extraction"
   ]
  },
  {
   "cell_type": "code",
   "execution_count": 19,
   "metadata": {},
   "outputs": [
    {
     "name": "stdout",
     "output_type": "stream",
     "text": [
      "feature_extractor.0.weight - requires_grad: True\n",
      "feature_extractor.0.bias   - requires_grad: True\n",
      "feature_extractor.1.weight - requires_grad: True\n",
      "feature_extractor.1.bias   - requires_grad: True\n",
      "feature_extractor.4.weight - requires_grad: True\n",
      "feature_extractor.4.bias   - requires_grad: True\n",
      "feature_extractor.5.weight - requires_grad: True\n",
      "feature_extractor.5.bias   - requires_grad: True\n",
      "classifier.weight          - requires_grad: True\n",
      "classifier.bias            - requires_grad: True\n"
     ]
    }
   ],
   "source": [
    "for name, param in model.named_parameters():\n",
    "    print(f\"{name:<26} - requires_grad: {param.requires_grad}\")"
   ]
  },
  {
   "cell_type": "code",
   "execution_count": null,
   "metadata": {},
   "outputs": [],
   "source": []
  },
  {
   "cell_type": "code",
   "execution_count": 13,
   "metadata": {},
   "outputs": [],
   "source": [
    "nodes = {\n",
    "    \"feature_extractor.0\": \"conv1\",\n",
    "    \"feature_extractor.5\": \"conv2\"\n",
    "}\n",
    "\n",
    "feature_extractor = create_feature_extractor(model, return_nodes= nodes)"
   ]
  },
  {
   "cell_type": "code",
   "execution_count": 14,
   "metadata": {},
   "outputs": [
    {
     "data": {
      "text/plain": [
       "dict_keys(['conv1', 'conv2'])"
      ]
     },
     "execution_count": 14,
     "metadata": {},
     "output_type": "execute_result"
    }
   ],
   "source": [
    "frog = transform(testset.data[0]).to(device)[None, :, :, :]\n",
    "\n",
    "feature_maps = feature_extractor(frog)\n",
    "feature_maps.keys()"
   ]
  },
  {
   "cell_type": "code",
   "execution_count": null,
   "metadata": {},
   "outputs": [],
   "source": [
    "# plot\n",
    "fig, axs = plt.subplots(nrows= 1, ncols= 2, figsize= (8, 4), layout= 'compressed')\n",
    "\n",
    "axs[0].imshow(testset.data[0])\n",
    "axs[0].axis('off')\n",
    "axs[0].set_title('Orignal')\n",
    "axs[1].imshow(frog.detach().cpu()[0].permute(1, 2, 0))\n",
    "axs[1].axis('off')\n",
    "axs[1].set_title('Transformed')\n",
    "\n",
    "plt.show()"
   ]
  },
  {
   "cell_type": "markdown",
   "metadata": {},
   "source": [
    "## model.feature_extractor.0\n",
    "   - Feature maps : 16x30x30"
   ]
  },
  {
   "cell_type": "code",
   "execution_count": null,
   "metadata": {},
   "outputs": [],
   "source": [
    "# plot\n",
    "total_rows = 4\n",
    "total_cols = 4\n",
    "\n",
    "fig, axs = plt.subplots(nrows= total_rows, ncols= total_cols, figsize= (total_cols * 2, total_rows * 2), layout= 'compressed')\n",
    "fig.suptitle('model.feature_extractor.0 feature maps')\n",
    "\n",
    "for row in range(total_rows):\n",
    "    for col in range(total_cols):\n",
    "        axs[row, col].imshow(feature_maps['conv1'][0, row * total_cols + col].detach().cpu(), cmap= 'gray')\n",
    "        axs[row, col].axis('off')\n",
    "        axs[row, col].set(title= row * total_cols + col)\n",
    "\n",
    "plt.show()"
   ]
  },
  {
   "cell_type": "markdown",
   "metadata": {},
   "source": [
    "## model.feature_extractor.5\n",
    "   - Feature maps : 32x13x13"
   ]
  },
  {
   "cell_type": "code",
   "execution_count": null,
   "metadata": {},
   "outputs": [],
   "source": [
    "# plot\n",
    "total_rows = 4\n",
    "total_cols = 8\n",
    "\n",
    "fig, axs = plt.subplots(nrows= total_rows, ncols= total_cols, figsize= (total_cols * 2, total_rows * 2), layout= 'compressed')\n",
    "fig.suptitle('model.feature_extractor.0 feature maps')\n",
    "\n",
    "for row in range(total_rows):\n",
    "    for col in range(total_cols):\n",
    "        axs[row, col].imshow(feature_maps['conv2'][0, row * total_cols + col].detach().cpu(), cmap= 'gray')\n",
    "        axs[row, col].axis('off')\n",
    "        axs[row, col].set(title= row * total_cols + col)\n",
    "\n",
    "plt.show()"
   ]
  }
 ],
 "metadata": {
  "kernelspec": {
   "display_name": "Python 3",
   "language": "python",
   "name": "python3"
  },
  "language_info": {
   "codemirror_mode": {
    "name": "ipython",
    "version": 3
   },
   "file_extension": ".py",
   "mimetype": "text/x-python",
   "name": "python",
   "nbconvert_exporter": "python",
   "pygments_lexer": "ipython3",
   "version": "3.12.2"
  }
 },
 "nbformat": 4,
 "nbformat_minor": 2
}

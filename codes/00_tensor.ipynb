{
 "cells": [
  {
   "cell_type": "markdown",
   "metadata": {},
   "source": [
    "# Dependencies"
   ]
  },
  {
   "cell_type": "code",
   "execution_count": 218,
   "metadata": {},
   "outputs": [],
   "source": [
    "import torch\n",
    "import numpy as np"
   ]
  },
  {
   "cell_type": "markdown",
   "metadata": {},
   "source": [
    "# array_like\n",
    "   - list\n",
    "      - Used for storing elements of different data types\n",
    "      - Flexible: there is no length & shape limit\n",
    "      - Not optimized for mathematical operations\n",
    "   - numpy.ndarray\n",
    "      - Implemented in C\n",
    "      - Used for mathematical operations\n",
    "      - Arrays are homogeneous: they can store elements of the same data type\n",
    "   - troch.Tensor\n",
    "      - PyTorch's core functionality is implemented in C++\n",
    "      - Optimized for deep learning operations e.g. auto gradient\n",
    "      - Support GPU acceleration [NVIDIA GPUs]"
   ]
  },
  {
   "cell_type": "code",
   "execution_count": 219,
   "metadata": {},
   "outputs": [
    {
     "name": "stdout",
     "output_type": "stream",
     "text": [
      "scalar_1: 2 | ndim: 0 | dtype: <class 'int'>\n",
      "scalar_2: 2 | ndim: 0 | dtype: int32\n",
      "scalar_3: 2 | ndim: 0 | dtype: torch.int64\n"
     ]
    }
   ],
   "source": [
    "# scalar : 0-dimensional array/tensor\n",
    "scalar_1 = 2\n",
    "scalar_2 = np.array(2)\n",
    "scalar_3 = torch.tensor(2)\n",
    "\n",
    "# log\n",
    "print(f\"scalar_1: {scalar_1} | ndim: 0 | dtype: {type(scalar_1)}\")\n",
    "print(f\"scalar_2: {scalar_2} | ndim: {scalar_2.ndim} | dtype: {scalar_2.dtype}\")\n",
    "print(f\"scalar_3: {scalar_3} | ndim: {scalar_3.ndim} | dtype: {scalar_3.dtype}\")"
   ]
  },
  {
   "cell_type": "code",
   "execution_count": 220,
   "metadata": {},
   "outputs": [
    {
     "name": "stdout",
     "output_type": "stream",
     "text": [
      "vector_1: [1, 2, 3]         | ndim: 1 | dtype: <class 'int'>\n",
      "vector_2: [1 2 3]           | ndim: 1 | dtype: int32\n",
      "vector_3: tensor([1, 2, 3]) | ndim: 1 | dtype: torch.int64\n"
     ]
    }
   ],
   "source": [
    "# vector : 1-dimensional list/array/tensor\n",
    "vector_1 = [1, 2, 3]\n",
    "vector_2 = np.array(vector_1)\n",
    "vector_3 = torch.tensor(vector_1)\n",
    "\n",
    "# log\n",
    "print(f\"vector_1: {str(vector_1):<17} | ndim: 1 | dtype: {type(vector_1[0])}\")\n",
    "print(f\"vector_2: {str(vector_2):<17} | ndim: {vector_2.ndim} | dtype: {vector_2.dtype}\")\n",
    "print(f\"vector_3: {vector_3} | ndim: {vector_3.ndim} | dtype: {vector_3.dtype}\")"
   ]
  },
  {
   "cell_type": "code",
   "execution_count": 221,
   "metadata": {},
   "outputs": [
    {
     "name": "stdout",
     "output_type": "stream",
     "text": [
      "matrix_1:\n",
      "[[0, 1], [2, 3]]\n",
      "ndim: 2\n",
      "dtype: <class 'int'>\n",
      "--------------------------------------------------\n",
      "matrix_2:\n",
      "[[0 1]\n",
      " [2 3]]\n",
      "ndim: 2\n",
      "dtype: int32\n",
      "--------------------------------------------------\n",
      "matrix_3:\n",
      "tensor([[0, 1],\n",
      "        [2, 3]])\n",
      "ndim: 2\n",
      "dtype: torch.int64\n"
     ]
    }
   ],
   "source": [
    "# matrix : 2-dimensional list/array/tensor\n",
    "matrix_1 = [[0, 1], [2, 3]]\n",
    "matrix_2 = np.array(matrix_1)\n",
    "matrix_3 = torch.tensor(matrix_1)\n",
    "\n",
    "# log\n",
    "print(f\"matrix_1:\\n{str(matrix_1):<11}\\nndim: 2\\ndtype: {type(matrix_1[0][0])}\")\n",
    "print('-' * 50)\n",
    "print(f\"matrix_2:\\n{str(matrix_2):<11}\\nndim: {matrix_2.ndim}\\ndtype: {matrix_2.dtype}\")\n",
    "print('-' * 50)\n",
    "print(f\"matrix_3:\\n{matrix_3}\\nndim: {matrix_3.ndim}\\ndtype: {matrix_3.dtype}\")"
   ]
  },
  {
   "cell_type": "markdown",
   "metadata": {},
   "source": [
    "# Tensors"
   ]
  },
  {
   "cell_type": "code",
   "execution_count": 222,
   "metadata": {},
   "outputs": [
    {
     "name": "stdout",
     "output_type": "stream",
     "text": [
      "t1:\n",
      "12\n",
      "t1.size(): torch.Size([])\n",
      "t1.ndim  : 0\n",
      "t1.dtype : torch.int64\n",
      "type(t1) : <class 'torch.Tensor'>\n",
      "--------------------------------------------------\n",
      "t2:\n",
      "1.0\n",
      "t2.size(): torch.Size([])\n",
      "t2.ndim  : 0\n",
      "t2.dtype : torch.float32\n",
      "type(t2) : <class 'torch.Tensor'>\n",
      "--------------------------------------------------\n",
      "t3:\n",
      "tensor([6.0884e+31])\n",
      "t3.size(): torch.Size([1])\n",
      "t3.ndim  : 1\n",
      "t3.dtype : torch.float32\n",
      "type(t3) : <class 'torch.Tensor'>\n",
      "--------------------------------------------------\n",
      "t4:\n",
      "tensor([[0.8219, 0.7519, 0.9828],\n",
      "        [0.5720, 0.7597, 0.3900]])\n",
      "t4.size(): torch.Size([2, 3])\n",
      "t4.ndim  : 2\n",
      "t4.dtype : torch.float32\n",
      "type(t4) : <class 'torch.Tensor'>\n",
      "--------------------------------------------------\n",
      "t5:\n",
      "tensor([[[0., 0., 0.],\n",
      "         [0., 0., 0.]],\n",
      "\n",
      "        [[0., 0., 0.],\n",
      "         [0., 0., 0.]]])\n",
      "t5.size(): torch.Size([2, 2, 3])\n",
      "t5.ndim  : 3\n",
      "t5.dtype : torch.float32\n",
      "type(t5) : <class 'torch.Tensor'>\n",
      "--------------------------------------------------\n"
     ]
    }
   ],
   "source": [
    "# 0-dimensional\n",
    "t1 = torch.tensor(12)\n",
    "t2 = torch.ones(size= ())\n",
    "\n",
    "# 1-dimensional\n",
    "t3 = torch.empty(size= (1,))\n",
    "\n",
    "# 2-dimensional\n",
    "t4 = torch.rand(size= (2, 3))\n",
    "\n",
    "# 3-dimensional\n",
    "t5 = torch.zeros(size= (2, 2, 3))\n",
    "\n",
    "# log\n",
    "for i in range(5):\n",
    "    print(f\"t{i+1}:\\n{eval(f't{i+1}')}\")\n",
    "    print(f\"t{i+1}.size(): {eval(f't{i+1}').size()}\")\n",
    "    print(f\"t{i+1}.ndim  : {eval(f't{i+1}').ndim}\")\n",
    "    print(f\"t{i+1}.dtype : {eval(f't{i+1}').dtype}\")\n",
    "    print(f\"type(t{i+1}) : {type(eval(f't{i+1}'))}\")\n",
    "    print('-' * 50)"
   ]
  },
  {
   "cell_type": "markdown",
   "metadata": {},
   "source": [
    "## element-wise operations"
   ]
  },
  {
   "cell_type": "code",
   "execution_count": 223,
   "metadata": {},
   "outputs": [
    {
     "name": "stdout",
     "output_type": "stream",
     "text": [
      "t1:\n",
      "tensor([[0.6694, 0.4539],\n",
      "        [0.2407, 0.3143]])\n",
      "\n",
      "t2:\n",
      "tensor([[1, 1],\n",
      "        [1, 1]])\n",
      "\n",
      "--------------------------------------------------\n",
      "c1:\n",
      "tensor([[1.6694, 1.4539],\n",
      "        [1.2407, 1.3143]])\n",
      "\n",
      "c2:\n",
      "tensor([[0.6694, 0.4539],\n",
      "        [0.2407, 0.3143]])\n",
      "\n",
      "c3:\n",
      "tensor([[0.6694, 0.4539],\n",
      "        [0.2407, 0.3143]])\n",
      "\n"
     ]
    }
   ],
   "source": [
    "t1 = torch.rand(size= (2, 2))\n",
    "t2 = torch.ones(size= (2, 2), dtype= torch.int64)\n",
    "\n",
    "c1 = t1 + t2  # torch.add(t1, t2)      | t1.add(t2)\n",
    "c2 = t1 * t2  # torch.multiply(t1, t2) | t1.multiply(t2)\n",
    "c3 = t1 ** t2 # torch.pow(t1, t2)      | t1.pow(t2)\n",
    "\n",
    "# log\n",
    "for i in range(2):\n",
    "    print(f\"t{i+1}:\\n{eval(f't{i+1}')}\\n\")\n",
    "print('-' * 50)\n",
    "for i in range(3):\n",
    "    print(f\"c{i+1}:\\n{eval(f'c{i+1}')}\\n\")"
   ]
  },
  {
   "cell_type": "markdown",
   "metadata": {},
   "source": [
    "## broadcasting"
   ]
  },
  {
   "cell_type": "code",
   "execution_count": 224,
   "metadata": {},
   "outputs": [
    {
     "name": "stdout",
     "output_type": "stream",
     "text": [
      "t1:\n",
      "tensor([[0.7521, 0.3261],\n",
      "        [0.5800, 0.2857]])\n",
      "\n",
      "--------------------------------------------------\n",
      "c1:\n",
      "tensor([[1.7521, 1.3261],\n",
      "        [1.5800, 1.2857]])\n",
      "\n",
      "c2:\n",
      "tensor([[7.5209, 3.2610],\n",
      "        [5.8002, 2.8573]])\n",
      "\n",
      "c3:\n",
      "tensor([[0.5656, 0.1063],\n",
      "        [0.3364, 0.0816]])\n",
      "\n"
     ]
    }
   ],
   "source": [
    "t1 = torch.rand(2, 2)\n",
    "\n",
    "c1 = t1 + 1\n",
    "c2 = t1 * 10\n",
    "c3 = t1 ** 2\n",
    "\n",
    "# log\n",
    "print(f\"t1:\\n{t1}\\n\")\n",
    "print('-' * 50)\n",
    "for i in range(3):\n",
    "    print(f\"c{i+1}:\\n{eval(f'c{i+1}')}\\n\")"
   ]
  },
  {
   "cell_type": "markdown",
   "metadata": {},
   "source": [
    "## index & slice"
   ]
  },
  {
   "cell_type": "code",
   "execution_count": 225,
   "metadata": {},
   "outputs": [
    {
     "name": "stdout",
     "output_type": "stream",
     "text": [
      "t1:\n",
      "tensor([[0.6583, 0.2651, 0.4245, 0.1784],\n",
      "        [0.3136, 0.6300, 0.5987, 0.9762],\n",
      "        [0.0973, 0.7832, 0.0826, 0.9032]])\n",
      "--------------------------------------------------\n",
      "i1: tensor([0.6583, 0.2651, 0.4245, 0.1784])\n",
      "i2: 0.5986832976341248\n",
      "s1: tensor([0.2651, 0.6300, 0.7832])\n",
      "s2: tensor([0.6583, 0.2651, 0.4245, 0.1784])\n"
     ]
    }
   ],
   "source": [
    "t1 = torch.rand(3, 4)\n",
    "\n",
    "i1 = t1[0]\n",
    "i2 = t1[1, 2]\n",
    "s1 = t1[:, 1]\n",
    "s2 = t1[0, :]\n",
    "\n",
    "# log\n",
    "print(f\"t1:\\n{t1}\")\n",
    "print('-' * 50)\n",
    "for i in range(2):\n",
    "    print(f\"i{i+1}: {eval(f'i{i+1}')}\")\n",
    "for i in range(2):\n",
    "    print(f\"s{i+1}: {eval(f's{i+1}')}\")"
   ]
  },
  {
   "cell_type": "markdown",
   "metadata": {},
   "source": [
    "## item\n",
    "   - Returns the value of this tensor as a standard Python number. This only works for tensors with one element"
   ]
  },
  {
   "cell_type": "code",
   "execution_count": 226,
   "metadata": {},
   "outputs": [
    {
     "name": "stdout",
     "output_type": "stream",
     "text": [
      "t1:\n",
      "tensor([[0.2070, 0.5092, 0.6879, 0.3051],\n",
      "        [0.4795, 0.4779, 0.0013, 0.1518],\n",
      "        [0.0909, 0.4201, 0.1391, 0.1313]])\n",
      "--------------------------------------------------\n",
      "i1: 0.20696145296096802\n",
      "i1.dtype: torch.float32\n",
      "\n",
      "i2: 0.20696145296096802\n",
      "type(i2): <class 'float'>\n",
      "\n"
     ]
    }
   ],
   "source": [
    "t1 = torch.rand(3, 4)\n",
    "i1 = t1[0, 0]\n",
    "i2 = t1[0, 0].item()\n",
    "\n",
    "# log\n",
    "print(f\"t1:\\n{t1}\")\n",
    "print('-' * 50)\n",
    "print(f\"i1: {i1}\")\n",
    "print(f\"i1.dtype: {i1.dtype}\\n\")\n",
    "print(f\"i2: {i2}\")\n",
    "print(f\"type(i2): {type(i2)}\\n\")"
   ]
  },
  {
   "cell_type": "markdown",
   "metadata": {},
   "source": [
    "## reshape & view\n",
    "   - view: a new tensor with the same data as the `self` tensor but of a different `shape`.\n",
    "   - reshape: This method returns a `view` if shape is compatible with the current `shape`."
   ]
  },
  {
   "cell_type": "code",
   "execution_count": 227,
   "metadata": {},
   "outputs": [
    {
     "name": "stdout",
     "output_type": "stream",
     "text": [
      "t1:\n",
      "tensor([[0.6364, 0.1796, 0.3888, 0.9673],\n",
      "        [0.3721, 0.6368, 0.9027, 0.3573],\n",
      "        [0.7786, 0.9309, 0.7517, 0.5448],\n",
      "        [0.8744, 0.8927, 0.3436, 0.9103]])\n",
      "\n",
      "--------------------------------------------------\n",
      "reshape_1:\n",
      "tensor([[0.6364, 0.1796, 0.3888, 0.9673, 0.3721, 0.6368, 0.9027, 0.3573],\n",
      "        [0.7786, 0.9309, 0.7517, 0.5448, 0.8744, 0.8927, 0.3436, 0.9103]])\n",
      "\n",
      "reshape_2:\n",
      "tensor([[[0.6364, 0.1796],\n",
      "         [0.3888, 0.9673],\n",
      "         [0.3721, 0.6368],\n",
      "         [0.9027, 0.3573]],\n",
      "\n",
      "        [[0.7786, 0.9309],\n",
      "         [0.7517, 0.5448],\n",
      "         [0.8744, 0.8927],\n",
      "         [0.3436, 0.9103]]])\n",
      "\n"
     ]
    }
   ],
   "source": [
    "t1 = torch.rand(4, 4)\n",
    "\n",
    "reshape_1 = t1.reshape(2, 8)\n",
    "reshape_2 = t1.reshape(2, -1, 2)\n",
    "\n",
    "# log\n",
    "print(f\"t1:\\n{t1}\", end= '\\n\\n')\n",
    "print('-' * 50)\n",
    "for i in range(2):\n",
    "    print(f\"reshape_{i+1}:\\n{eval(f'reshape_{i+1}')}\")\n",
    "    print()"
   ]
  },
  {
   "cell_type": "markdown",
   "metadata": {},
   "source": [
    "## copy a tensor\n",
    "   - clone : This function is differentiable, so gradients will flow back from the result of this operation to `input`\n",
    "   - detach: Returns a new Tensor, detached from the current graph"
   ]
  },
  {
   "cell_type": "code",
   "execution_count": 228,
   "metadata": {},
   "outputs": [
    {
     "name": "stdout",
     "output_type": "stream",
     "text": [
      "t2:\n",
      "tensor([[0., 0., 0.],\n",
      "        [0., 0., 0.]])\n",
      "t3:\n",
      "tensor([[0., 0., 0.],\n",
      "        [0., 0., 0.]], grad_fn=<CloneBackward0>)\n"
     ]
    }
   ],
   "source": [
    "t1 = torch.zeros(size= (2, 3), requires_grad= True)\n",
    "t2 = t1.detach()\n",
    "t3 = t1.clone()\n",
    "\n",
    "# log\n",
    "for i in range(2):\n",
    "    print(f\"t{i+2}:\\n{eval(f't{i+2}')}\")"
   ]
  },
  {
   "cell_type": "markdown",
   "metadata": {},
   "source": [
    "## torch.Tensor to numpy.ndarray"
   ]
  },
  {
   "cell_type": "code",
   "execution_count": 229,
   "metadata": {},
   "outputs": [
    {
     "name": "stdout",
     "output_type": "stream",
     "text": [
      "t1:\n",
      "tensor([[0., 1., 1.],\n",
      "        [1., 1., 1.]])\n",
      "type(t1): <class 'torch.Tensor'>\n",
      "--------------------------------------------------\n",
      "n1:\n",
      "[[0. 1. 1.]\n",
      " [1. 1. 1.]]\n",
      "type(n1): <class 'numpy.ndarray'>\n",
      "\n",
      "n2:\n",
      "[[1. 0. 1.]\n",
      " [1. 1. 1.]]\n",
      "type(n2): <class 'numpy.ndarray'>\n",
      "\n"
     ]
    }
   ],
   "source": [
    "t1 = torch.ones(2, 3)\n",
    "\n",
    "n1 = t1.numpy()   # share the same memory location\n",
    "n2 = np.array(t1) # copy\n",
    "\n",
    "n1[0, 0] = 0\n",
    "n2[0, 1] = 0\n",
    "\n",
    "# log\n",
    "print(f\"t1:\\n{t1}\")\n",
    "print(f\"type(t1): {type(t1)}\")\n",
    "print('-' * 50)\n",
    "for i in range(2):\n",
    "    print(f\"n{i+1}:\\n{eval(f'n{i+1}')}\")\n",
    "    print(f\"type(n{i+1}): {eval(f'type(n{i+1})')}\\n\")"
   ]
  },
  {
   "cell_type": "markdown",
   "metadata": {},
   "source": [
    "## numpy.ndarray to torch.Tensor"
   ]
  },
  {
   "cell_type": "code",
   "execution_count": 230,
   "metadata": {},
   "outputs": [
    {
     "name": "stdout",
     "output_type": "stream",
     "text": [
      "n1:\n",
      "[[0. 1. 1.]\n",
      " [1. 1. 1.]]\n",
      "type(n1): <class 'numpy.ndarray'>\n",
      "--------------------------------------------------\n",
      "t1:\n",
      "tensor([[0., 1., 1.],\n",
      "        [1., 1., 1.]], dtype=torch.float64)\n",
      "type(t1): <class 'torch.Tensor'>\n",
      "\n",
      "t2:\n",
      "tensor([[1., 0., 1.],\n",
      "        [1., 1., 1.]], dtype=torch.float64)\n",
      "type(t2): <class 'torch.Tensor'>\n",
      "\n"
     ]
    }
   ],
   "source": [
    "n1 = np.ones(shape= (2, 3))\n",
    "\n",
    "t1 = torch.from_numpy(n1) # share the same memory location\n",
    "t2 = torch.tensor(n1)     # copy\n",
    "\n",
    "t1[0, 0] = 0\n",
    "t2[0, 1] = 0\n",
    "\n",
    "# log\n",
    "print(f\"n1:\\n{n1}\")\n",
    "print(f\"type(n1): {type(n1)}\")\n",
    "print('-' * 50)\n",
    "for i in range(2):\n",
    "    print(f\"t{i+1}:\\n{eval(f't{i+1}')}\")\n",
    "    print(f\"type(t{i+1}): {eval(f'type(t{i+1})')}\\n\")"
   ]
  },
  {
   "cell_type": "markdown",
   "metadata": {},
   "source": [
    "## tensor on GPU\n",
    "   - tensor on GPU can not be converted to np.ndarray directly"
   ]
  },
  {
   "cell_type": "code",
   "execution_count": 231,
   "metadata": {},
   "outputs": [
    {
     "name": "stdout",
     "output_type": "stream",
     "text": [
      "cuda\n"
     ]
    }
   ],
   "source": [
    "device = 'cuda' if torch.cuda.is_available() else 'cpu'\n",
    "# or\n",
    "device = torch.device('cuda') if torch.cuda.is_available() else torch.device('cpu')\n",
    "\n",
    "# log\n",
    "print(device)"
   ]
  },
  {
   "cell_type": "code",
   "execution_count": 232,
   "metadata": {},
   "outputs": [
    {
     "name": "stdout",
     "output_type": "stream",
     "text": [
      "t1.device: cpu\n",
      "t2.device: cuda:0\n",
      "t2:\n",
      "tensor([[1., 1., 1.],\n",
      "        [1., 1., 1.]], device='cuda:0')\n"
     ]
    }
   ],
   "source": [
    "t1 = torch.ones(2, 3)\n",
    "t2 = t1.to(device)\n",
    "\n",
    "t1[0, 0] = 0\n",
    "\n",
    "# log\n",
    "print(f\"t1.device: {t1.device}\")\n",
    "print(f\"t2.device: {t2.device}\")\n",
    "print(f\"t2:\\n{t2}\")"
   ]
  },
  {
   "cell_type": "code",
   "execution_count": 233,
   "metadata": {},
   "outputs": [
    {
     "name": "stdout",
     "output_type": "stream",
     "text": [
      "can't convert cuda:0 device type tensor to numpy. Use Tensor.cpu() to copy the tensor to host memory first.\n"
     ]
    }
   ],
   "source": [
    "t1 = torch.ones(2, 3, device= device)\n",
    "\n",
    "try:\n",
    "    n1 = t1.numpy()\n",
    "except TypeError as e:\n",
    "    print(e)"
   ]
  },
  {
   "cell_type": "code",
   "execution_count": 234,
   "metadata": {},
   "outputs": [
    {
     "name": "stdout",
     "output_type": "stream",
     "text": [
      "n2:\n",
      "[[1. 1. 1.]\n",
      " [1. 1. 1.]]\n"
     ]
    }
   ],
   "source": [
    "t1 = torch.ones(2, 3, device= device)\n",
    "\n",
    "n2 = t1.cpu().numpy()\n",
    "\n",
    "# log\n",
    "print(f\"n2:\\n{n2}\")"
   ]
  },
  {
   "cell_type": "code",
   "execution_count": 235,
   "metadata": {},
   "outputs": [
    {
     "name": "stdout",
     "output_type": "stream",
     "text": [
      "cuda:0\n",
      "cuda:0\n",
      "cuda:0\n"
     ]
    }
   ],
   "source": [
    "t1 = torch.ones(2, 3, device= device)\n",
    "t2 = torch.ones(2, 3).to(device)\n",
    "t3 = torch.ones(2, 3).cuda()\n",
    "\n",
    "# log\n",
    "print(t1.device)\n",
    "print(t2.device)\n",
    "print(t3.device)"
   ]
  },
  {
   "cell_type": "markdown",
   "metadata": {},
   "source": [
    "## Notes"
   ]
  },
  {
   "cell_type": "markdown",
   "metadata": {},
   "source": [
    "### what you see is not necessarily the actual value"
   ]
  },
  {
   "cell_type": "code",
   "execution_count": 236,
   "metadata": {},
   "outputs": [
    {
     "name": "stdout",
     "output_type": "stream",
     "text": [
      "tensor(0.5098)\n",
      "0.509786069393158\n"
     ]
    }
   ],
   "source": [
    "t1 = torch.rand(size= (2, 3))\n",
    "\n",
    "# log\n",
    "print(t1[0, 0])\n",
    "print(t1[0, 0].item())"
   ]
  },
  {
   "cell_type": "markdown",
   "metadata": {},
   "source": [
    "### torch.float32 is preferred rather than torch.float64\n",
    "   1. Memory Efficiency\n",
    "   2. Speed\n",
    "   3. Compatibility: Some deep learning libraries and models are optimized for `torch.float32` operations. Using `torch.float64` may lead to compatibility issues or slower performance in certain cases.\n",
    "\n",
    "Note:\n",
    "   - `torch.float32` often referred to as `float`\n",
    "   - `torch.float64` often referred to as `double`"
   ]
  }
 ],
 "metadata": {
  "kernelspec": {
   "display_name": "Python 3",
   "language": "python",
   "name": "python3"
  },
  "language_info": {
   "codemirror_mode": {
    "name": "ipython",
    "version": 3
   },
   "file_extension": ".py",
   "mimetype": "text/x-python",
   "name": "python",
   "nbconvert_exporter": "python",
   "pygments_lexer": "ipython3",
   "version": "3.12.2"
  }
 },
 "nbformat": 4,
 "nbformat_minor": 2
}

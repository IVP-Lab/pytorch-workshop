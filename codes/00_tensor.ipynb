{
 "cells": [
  {
   "cell_type": "markdown",
   "metadata": {},
   "source": [
    "# Dependencies"
   ]
  },
  {
   "cell_type": "code",
   "execution_count": 1,
   "metadata": {},
   "outputs": [],
   "source": [
    "import torch\n",
    "import numpy as np"
   ]
  },
  {
   "cell_type": "markdown",
   "metadata": {},
   "source": [
    "# array_like\n",
    "   - list\n",
    "      - Used for storing elements of different data types\n",
    "      - Flexible: there is no length & shape limit\n",
    "      - Not optimized for mathematical operations\n",
    "   - numpy.ndarray\n",
    "      - Implemented in C\n",
    "      - Used for mathematical operations\n",
    "      - Arrays are homogeneous: they can store elements of the same data type\n",
    "   - troch.Tensor\n",
    "      - PyTorch's core functionality is implemented in C++\n",
    "      - Optimized for deep learning operations e.g. auto gradient\n",
    "      - Support GPU acceleration [NVIDIA GPUs]"
   ]
  },
  {
   "cell_type": "code",
   "execution_count": 2,
   "metadata": {},
   "outputs": [
    {
     "name": "stdout",
     "output_type": "stream",
     "text": [
      "scalar_1: 2 | ndim: 0 | dtype: <class 'int'>\n",
      "scalar_2: 2 | ndim: 0 | dtype: numpy.int32\n",
      "scalar_3: 2 | ndim: 0 | dtype: torch.int64\n"
     ]
    }
   ],
   "source": [
    "# scalar : 0-dimensional array/tensor\n",
    "scalar_1 = 2\n",
    "scalar_2 = np.array(2)\n",
    "scalar_3 = torch.tensor(2)\n",
    "\n",
    "# log\n",
    "print(f\"scalar_1: {scalar_1} | ndim: 0 | dtype: {type(scalar_1)}\")\n",
    "print(f\"scalar_2: {scalar_2} | ndim: {scalar_2.ndim} | dtype: numpy.{scalar_2.dtype}\")\n",
    "print(f\"scalar_3: {scalar_3} | ndim: {scalar_3.ndim} | dtype: {scalar_3.dtype}\")"
   ]
  },
  {
   "cell_type": "code",
   "execution_count": 3,
   "metadata": {},
   "outputs": [
    {
     "name": "stdout",
     "output_type": "stream",
     "text": [
      "vector_1: [1, 2, 3]         | ndim: 1 | dtype: <class 'int'>\n",
      "vector_2: [1 2 3]           | ndim: 1 | dtype: numpy.int32\n",
      "vector_3: tensor([1, 2, 3]) | ndim: 1 | dtype: torch.int64\n"
     ]
    }
   ],
   "source": [
    "# vector : 1-dimensional list/array/tensor\n",
    "vector_1 = [1, 2, 3]\n",
    "vector_2 = np.array(vector_1)\n",
    "vector_3 = torch.tensor(vector_1)\n",
    "\n",
    "# log\n",
    "print(f\"vector_1: {str(vector_1):<17} | ndim: 1 | dtype: {type(vector_1[0])}\")\n",
    "print(f\"vector_2: {str(vector_2):<17} | ndim: {vector_2.ndim} | dtype: numpy.{vector_2.dtype}\")\n",
    "print(f\"vector_3: {vector_3} | ndim: {vector_3.ndim} | dtype: {vector_3.dtype}\")"
   ]
  },
  {
   "cell_type": "code",
   "execution_count": 4,
   "metadata": {},
   "outputs": [
    {
     "name": "stdout",
     "output_type": "stream",
     "text": [
      "matrix_1:\n",
      "[[0, 1], [2, 3]]\n",
      "ndim : 2\n",
      "dtype: <class 'int'>\n",
      "--------------------------------------------------\n",
      "matrix_2:\n",
      "[[0 1]\n",
      " [2 3]]\n",
      "matrix_2.ndim : 2\n",
      "matrix_2.shape: (2, 2)\n",
      "matrix_2.dtype: numpy.int32\n",
      "--------------------------------------------------\n",
      "matrix_3:\n",
      "tensor([[0, 1],\n",
      "        [2, 3]])\n",
      "matrix_3.ndim : 2\n",
      "matrix_3.shape: torch.Size([2, 2])\n",
      "matrix_3.dtype: torch.int64\n"
     ]
    }
   ],
   "source": [
    "# matrix : 2-dimensional list/array/tensor\n",
    "matrix_1 = [[0, 1], [2, 3]]\n",
    "matrix_2 = np.array(matrix_1)\n",
    "matrix_3 = torch.tensor(matrix_1)\n",
    "\n",
    "# log\n",
    "print(f\"matrix_1:\\n{matrix_1}\\nndim : 2\\ndtype: {type(matrix_1[0][0])}\")\n",
    "print('-' * 50)\n",
    "print(f\"matrix_2:\\n{matrix_2}\\nmatrix_2.ndim : {matrix_2.ndim}\\nmatrix_2.shape: {matrix_2.shape}\\nmatrix_2.dtype: numpy.{matrix_2.dtype}\")\n",
    "print('-' * 50)\n",
    "print(f\"matrix_3:\\n{matrix_3}\\nmatrix_3.ndim : {matrix_3.ndim}\\nmatrix_3.shape: {matrix_3.shape}\\nmatrix_3.dtype: {matrix_3.dtype}\")"
   ]
  },
  {
   "cell_type": "code",
   "execution_count": 5,
   "metadata": {},
   "outputs": [
    {
     "name": "stdout",
     "output_type": "stream",
     "text": [
      "lst:\n",
      "[[[0, 1], [2, 3]], [[4, 5], [6, 7]]]\n",
      "ndim : 3\n",
      "dtype: <class 'int'>\n",
      "--------------------------------------------------\n",
      "arr:\n",
      "[[0 1]\n",
      " [2 3]]\n",
      "arr.ndim : 2\n",
      "arr.shape: (2, 2)\n",
      "arr.dtype: numpy.int32\n",
      "--------------------------------------------------\n",
      "tsr:\n",
      "tensor([[0, 1],\n",
      "        [2, 3]])\n",
      "tsr.ndim : 2\n",
      "tsr.shape: torch.Size([2, 2])\n",
      "tsr.dtype: torch.int64\n"
     ]
    }
   ],
   "source": [
    "# 3-dimensional list/array/tensor\n",
    "lst = [[[0, 1], [2, 3]], [[4, 5], [6, 7]]]\n",
    "arr = np.array(matrix_1)\n",
    "tsr = torch.tensor(matrix_1)\n",
    "\n",
    "# log\n",
    "print(f\"lst:\\n{lst}\\nndim : 3\\ndtype: {type(lst[0][0][0])}\")\n",
    "print('-' * 50)\n",
    "print(f\"arr:\\n{arr}\\narr.ndim : {arr.ndim}\\narr.shape: {arr.shape}\\narr.dtype: numpy.{arr.dtype}\")\n",
    "print('-' * 50)\n",
    "print(f\"tsr:\\n{tsr}\\ntsr.ndim : {tsr.ndim}\\ntsr.shape: {tsr.shape}\\ntsr.dtype: {tsr.dtype}\")"
   ]
  },
  {
   "cell_type": "markdown",
   "metadata": {},
   "source": [
    "# Tensors"
   ]
  },
  {
   "cell_type": "code",
   "execution_count": 6,
   "metadata": {},
   "outputs": [
    {
     "name": "stdout",
     "output_type": "stream",
     "text": [
      "t1:\n",
      "1.0\n",
      "t1.size(): torch.Size([])\n",
      "t1.ndim  : 0\n",
      "t1.dtype : torch.float32\n",
      "type(t1) : <class 'torch.Tensor'>\n",
      "--------------------------------------------------\n",
      "t2:\n",
      "tensor([[1., 1.],\n",
      "        [1., 1.]])\n",
      "t2.size(): torch.Size([2, 2])\n",
      "t2.ndim  : 2\n",
      "t2.dtype : torch.float32\n",
      "type(t2) : <class 'torch.Tensor'>\n",
      "--------------------------------------------------\n",
      "t3:\n",
      "tensor([0., 0.])\n",
      "t3.size(): torch.Size([2])\n",
      "t3.ndim  : 1\n",
      "t3.dtype : torch.float32\n",
      "type(t3) : <class 'torch.Tensor'>\n",
      "--------------------------------------------------\n",
      "t4:\n",
      "tensor([[0., 0., 0.],\n",
      "        [0., 0., 0.]])\n",
      "t4.size(): torch.Size([2, 3])\n",
      "t4.ndim  : 2\n",
      "t4.dtype : torch.float32\n",
      "type(t4) : <class 'torch.Tensor'>\n",
      "--------------------------------------------------\n",
      "t5:\n",
      "tensor([[[0.4483, 0.6078, 0.8505],\n",
      "         [0.9439, 0.5774, 0.7985]],\n",
      "\n",
      "        [[0.6874, 0.7539, 0.3512],\n",
      "         [0.1600, 0.0063, 0.1830]]])\n",
      "t5.size(): torch.Size([2, 2, 3])\n",
      "t5.ndim  : 3\n",
      "t5.dtype : torch.float32\n",
      "type(t5) : <class 'torch.Tensor'>\n",
      "--------------------------------------------------\n"
     ]
    }
   ],
   "source": [
    "# ones\n",
    "t1 = torch.ones(size= ())\n",
    "t2 = torch.ones(size= (2, 2))\n",
    "\n",
    "# zeros\n",
    "t3 = torch.zeros(size= (2,))\n",
    "\n",
    "# empty\n",
    "t4 = torch.empty(size= (2, 3))\n",
    "\n",
    "# rand\n",
    "t5 = torch.rand(size= (2, 2, 3))\n",
    "\n",
    "# log\n",
    "for i in range(5):\n",
    "    print(f\"t{i+1}:\\n{eval(f't{i+1}')}\")\n",
    "    print(f\"t{i+1}.size(): {eval(f't{i+1}').size()}\")\n",
    "    print(f\"t{i+1}.ndim  : {eval(f't{i+1}').ndim}\")\n",
    "    print(f\"t{i+1}.dtype : {eval(f't{i+1}').dtype}\")\n",
    "    print(f\"type(t{i+1}) : {type(eval(f't{i+1}'))}\")\n",
    "    print('-' * 50)"
   ]
  },
  {
   "cell_type": "markdown",
   "metadata": {},
   "source": [
    "## Index"
   ]
  },
  {
   "cell_type": "code",
   "execution_count": 7,
   "metadata": {},
   "outputs": [
    {
     "name": "stdout",
     "output_type": "stream",
     "text": [
      "t1:\n",
      "tensor([[0.3142, 0.7452, 0.6441, 0.1589],\n",
      "        [0.7466, 0.3164, 0.6066, 0.0906],\n",
      "        [0.6222, 0.5052, 0.5504, 0.0089]])\n",
      "--------------------------------------------------\n",
      "i1: tensor([0.3142, 0.7452, 0.6441, 0.1589])\n",
      "i2: tensor([0.7466, 0.3164, 0.6066, 0.0906])\n",
      "i3: tensor([0.6222, 0.5052, 0.5504, 0.0089])\n",
      "i4: 0.31418269872665405\n",
      "i5: 0.5503561496734619\n"
     ]
    }
   ],
   "source": [
    "t1 = torch.rand(3, 4)\n",
    "\n",
    "i1 = t1[0]\n",
    "i2 = t1[1]\n",
    "i3 = t1[-1]\n",
    "i4 = t1[0, 0]\n",
    "i5 = t1[2, -2]\n",
    "\n",
    "# log\n",
    "print(f\"t1:\\n{t1}\")\n",
    "print('-' * 50)\n",
    "for i in range(5):\n",
    "    print(f\"i{i+1}: {eval(f'i{i+1}')}\")"
   ]
  },
  {
   "cell_type": "markdown",
   "metadata": {},
   "source": [
    "## Slice"
   ]
  },
  {
   "cell_type": "code",
   "execution_count": 8,
   "metadata": {},
   "outputs": [
    {
     "name": "stdout",
     "output_type": "stream",
     "text": [
      "t1:\n",
      "tensor([[0.6484, 0.3128, 0.8361, 0.0224],\n",
      "        [0.1618, 0.8266, 0.9325, 0.8205],\n",
      "        [0.2317, 0.5489, 0.8283, 0.7612]])\n",
      "--------------------------------------------------\n",
      "s1:\n",
      "tensor([0.6484, 0.3128, 0.8361, 0.0224])\n",
      "\n",
      "s2:\n",
      "tensor([0.3128, 0.8266, 0.5489])\n",
      "\n",
      "s3:\n",
      "tensor([[0.8361, 0.0224],\n",
      "        [0.9325, 0.8205]])\n",
      "\n",
      "s4:\n",
      "tensor([0.2317])\n",
      "\n"
     ]
    }
   ],
   "source": [
    "t1 = torch.rand(3, 4)\n",
    "\n",
    "s1 = t1[0, :]  # same as t1[0]\n",
    "s2 = t1[:, 1]\n",
    "s3 = t1[:2, 2:]\n",
    "s4 = t1[-1:, 0]\n",
    "\n",
    "# log\n",
    "print(f\"t1:\\n{t1}\")\n",
    "print('-' * 50)\n",
    "for i in range(4):\n",
    "    print(f\"s{i+1}:\\n{eval(f's{i+1}')}\\n\")"
   ]
  },
  {
   "cell_type": "markdown",
   "metadata": {},
   "source": [
    "## Element-wise operations"
   ]
  },
  {
   "cell_type": "code",
   "execution_count": 9,
   "metadata": {},
   "outputs": [
    {
     "name": "stdout",
     "output_type": "stream",
     "text": [
      "t1:\n",
      "tensor([[0, 1],\n",
      "        [2, 3]])\n",
      "\n",
      "t2:\n",
      "tensor([[1, 1],\n",
      "        [1, 1]])\n",
      "\n",
      "--------------------------------------------------\n",
      "c1:\n",
      "tensor([[1, 2],\n",
      "        [3, 4]])\n",
      "\n",
      "c2:\n",
      "tensor([[-1,  0],\n",
      "        [ 1,  2]])\n",
      "\n",
      "c3:\n",
      "tensor([[0, 1],\n",
      "        [2, 3]])\n",
      "\n",
      "c4:\n",
      "tensor([[0., 1.],\n",
      "        [2., 3.]])\n",
      "\n",
      "c5:\n",
      "tensor([[0, 1],\n",
      "        [2, 3]])\n",
      "\n"
     ]
    }
   ],
   "source": [
    "t1 = torch.arange(4).reshape(2, 2)\n",
    "t2 = torch.ones(size= (2, 2), dtype= torch.int64)\n",
    "\n",
    "c1 = t1 + t2   # torch.add(t1, t2)      | t1.add(t2)\n",
    "c2 = t1 - t2   # torch.sub(t1, t2)      | t1.sub(t2)\n",
    "c3 = t1 * t2   # torch.multiply(t1, t2) | t1.multiply(t2)\n",
    "c4 = t1 / t2   # torch.div(t1, t2)      | t1.div(t2)\n",
    "c5 = t1 ** t2  # torch.pow(t1, t2)      | t1.pow(t2)\n",
    "\n",
    "# log\n",
    "for i in range(2):\n",
    "    print(f\"t{i+1}:\\n{eval(f't{i+1}')}\\n\")\n",
    "print('-' * 50)\n",
    "for i in range(5):\n",
    "    print(f\"c{i+1}:\\n{eval(f'c{i+1}')}\\n\")"
   ]
  },
  {
   "cell_type": "markdown",
   "metadata": {},
   "source": [
    "## Broadcasting"
   ]
  },
  {
   "cell_type": "code",
   "execution_count": 10,
   "metadata": {},
   "outputs": [
    {
     "name": "stdout",
     "output_type": "stream",
     "text": [
      "t1:\n",
      "tensor([[0.0143, 0.7186],\n",
      "        [0.3250, 0.4304]])\n",
      "\n",
      "--------------------------------------------------\n",
      "c1:\n",
      "tensor([[1.0143, 1.7186],\n",
      "        [1.3250, 1.4304]])\n",
      "\n",
      "c2:\n",
      "tensor([[0.1426, 7.1856],\n",
      "        [3.2504, 4.3042]])\n",
      "\n",
      "c3:\n",
      "tensor([[2.0324e-04, 5.1633e-01],\n",
      "        [1.0565e-01, 1.8526e-01]])\n",
      "\n"
     ]
    }
   ],
   "source": [
    "t1 = torch.rand(2, 2)\n",
    "\n",
    "c1 = t1 + 1\n",
    "c2 = t1 * 10\n",
    "c3 = t1 ** 2\n",
    "\n",
    "# log\n",
    "print(f\"t1:\\n{t1}\\n\")\n",
    "print('-' * 50)\n",
    "for i in range(3):\n",
    "    print(f\"c{i+1}:\\n{eval(f'c{i+1}')}\\n\")"
   ]
  },
  {
   "cell_type": "markdown",
   "metadata": {},
   "source": [
    "## reshape & view\n",
    "   - view: a new tensor with the same data as the `self` tensor but of a different `shape`.\n",
    "   - reshape: This method returns a `view` if shape is compatible with the current `shape`."
   ]
  },
  {
   "cell_type": "code",
   "execution_count": 11,
   "metadata": {},
   "outputs": [
    {
     "name": "stdout",
     "output_type": "stream",
     "text": [
      "t1:\n",
      "tensor([[0.2358, 0.2139, 0.9614, 0.2585],\n",
      "        [0.8515, 0.8237, 0.1138, 0.6574],\n",
      "        [0.3467, 0.3616, 0.3107, 0.6212],\n",
      "        [0.4293, 0.7235, 0.5020, 0.0217]])\n",
      "\n",
      "--------------------------------------------------\n",
      "reshape_1:\n",
      "tensor([[0.2358, 0.2139, 0.9614, 0.2585, 0.8515, 0.8237, 0.1138, 0.6574],\n",
      "        [0.3467, 0.3616, 0.3107, 0.6212, 0.4293, 0.7235, 0.5020, 0.0217]])\n",
      "reshape_1.shape: torch.Size([2, 8])\n",
      "\n",
      "reshape_2:\n",
      "tensor([[[0.2358, 0.2139],\n",
      "         [0.9614, 0.2585],\n",
      "         [0.8515, 0.8237],\n",
      "         [0.1138, 0.6574]],\n",
      "\n",
      "        [[0.3467, 0.3616],\n",
      "         [0.3107, 0.6212],\n",
      "         [0.4293, 0.7235],\n",
      "         [0.5020, 0.0217]]])\n",
      "reshape_2.shape: torch.Size([2, 4, 2])\n",
      "\n"
     ]
    }
   ],
   "source": [
    "t1 = torch.rand(4, 4)\n",
    "\n",
    "reshape_1 = t1.reshape(2, 8)\n",
    "reshape_2 = t1.reshape(2, -1, 2)\n",
    "\n",
    "# log\n",
    "print(f\"t1:\\n{t1}\", end= '\\n\\n')\n",
    "print('-' * 50)\n",
    "for i in range(2):\n",
    "    print(f\"reshape_{i+1}:\\n{eval(f'reshape_{i+1}')}\")\n",
    "    print(f\"reshape_{i+1}.shape: {eval(f'reshape_{i+1}.shape')}\")\n",
    "    print()"
   ]
  },
  {
   "cell_type": "markdown",
   "metadata": {},
   "source": [
    "## copy a tensor\n",
    "   - clone: \n",
    "      - creates a hard copy\n",
    "      - This function is differentiable, so gradients will flow back from the result of this operation to `input`\n",
    "   - detach:\n",
    "      - creates a soft copy\n",
    "      - The new tensor is detached from the current graph for calculating gradients"
   ]
  },
  {
   "cell_type": "code",
   "execution_count": 12,
   "metadata": {},
   "outputs": [
    {
     "name": "stdout",
     "output_type": "stream",
     "text": [
      "t2:\n",
      "tensor([[0., 0., 0.],\n",
      "        [0., 0., 0.]])\n",
      "t3:\n",
      "tensor([[0., 0., 0.],\n",
      "        [0., 0., 0.]], grad_fn=<CloneBackward0>)\n"
     ]
    }
   ],
   "source": [
    "t1 = torch.zeros(size= (2, 3), requires_grad= True)\n",
    "t2 = t1.detach()\n",
    "t3 = t1.clone()\n",
    "\n",
    "# log\n",
    "for i in range(2):\n",
    "    print(f\"t{i+2}:\\n{eval(f't{i+2}')}\")"
   ]
  },
  {
   "cell_type": "markdown",
   "metadata": {},
   "source": [
    "## torch.Tensor to numpy.ndarray"
   ]
  },
  {
   "cell_type": "code",
   "execution_count": 13,
   "metadata": {},
   "outputs": [
    {
     "name": "stdout",
     "output_type": "stream",
     "text": [
      "t1:\n",
      "tensor([[0., 1., 1.],\n",
      "        [1., 1., 1.]])\n",
      "type(t1): <class 'torch.Tensor'>\n",
      "--------------------------------------------------\n",
      "n1:\n",
      "[[0. 1. 1.]\n",
      " [1. 1. 1.]]\n",
      "type(n1): <class 'numpy.ndarray'>\n",
      "\n",
      "n2:\n",
      "[[1. 0. 1.]\n",
      " [1. 1. 1.]]\n",
      "type(n2): <class 'numpy.ndarray'>\n",
      "\n"
     ]
    }
   ],
   "source": [
    "t1 = torch.ones(2, 3)\n",
    "\n",
    "n1 = t1.numpy()   # share the same memory location\n",
    "n2 = np.array(t1) # copy\n",
    "\n",
    "n1[0, 0] = 0\n",
    "n2[0, 1] = 0\n",
    "\n",
    "# log\n",
    "print(f\"t1:\\n{t1}\")\n",
    "print(f\"type(t1): {type(t1)}\")\n",
    "print('-' * 50)\n",
    "for i in range(2):\n",
    "    print(f\"n{i+1}:\\n{eval(f'n{i+1}')}\")\n",
    "    print(f\"type(n{i+1}): {eval(f'type(n{i+1})')}\\n\")"
   ]
  },
  {
   "cell_type": "markdown",
   "metadata": {},
   "source": [
    "## numpy.ndarray to torch.Tensor"
   ]
  },
  {
   "cell_type": "code",
   "execution_count": 14,
   "metadata": {},
   "outputs": [
    {
     "name": "stdout",
     "output_type": "stream",
     "text": [
      "n1:\n",
      "[[0. 1. 1.]\n",
      " [1. 1. 1.]]\n",
      "type(n1): <class 'numpy.ndarray'>\n",
      "--------------------------------------------------\n",
      "t1:\n",
      "tensor([[0., 1., 1.],\n",
      "        [1., 1., 1.]], dtype=torch.float64)\n",
      "type(t1): <class 'torch.Tensor'>\n",
      "\n",
      "t2:\n",
      "tensor([[1., 0., 1.],\n",
      "        [1., 1., 1.]], dtype=torch.float64)\n",
      "type(t2): <class 'torch.Tensor'>\n",
      "\n"
     ]
    }
   ],
   "source": [
    "n1 = np.ones(shape= (2, 3))\n",
    "\n",
    "t1 = torch.from_numpy(n1) # share the same memory location\n",
    "t2 = torch.tensor(n1)     # copy\n",
    "\n",
    "t1[0, 0] = 0\n",
    "t2[0, 1] = 0\n",
    "\n",
    "# log\n",
    "print(f\"n1:\\n{n1}\")\n",
    "print(f\"type(n1): {type(n1)}\")\n",
    "print('-' * 50)\n",
    "for i in range(2):\n",
    "    print(f\"t{i+1}:\\n{eval(f't{i+1}')}\")\n",
    "    print(f\"type(t{i+1}): {eval(f'type(t{i+1})')}\\n\")"
   ]
  },
  {
   "cell_type": "markdown",
   "metadata": {},
   "source": [
    "## tensor on GPU\n",
    "   - tensor on GPU can not be converted to np.ndarray directly"
   ]
  },
  {
   "cell_type": "code",
   "execution_count": 15,
   "metadata": {},
   "outputs": [
    {
     "name": "stdout",
     "output_type": "stream",
     "text": [
      "cuda\n"
     ]
    }
   ],
   "source": [
    "device = 'cuda' if torch.cuda.is_available() else 'cpu'\n",
    "# or\n",
    "device = torch.device('cuda') if torch.cuda.is_available() else torch.device('cpu')\n",
    "\n",
    "# log\n",
    "print(device)"
   ]
  },
  {
   "cell_type": "code",
   "execution_count": 16,
   "metadata": {},
   "outputs": [
    {
     "name": "stdout",
     "output_type": "stream",
     "text": [
      "t1.device: cpu\n",
      "t2.device: cuda:0\n",
      "--------------------------------------------------\n",
      "t2:\n",
      "tensor([[1., 1., 1.],\n",
      "        [1., 1., 1.]], device='cuda:0')\n"
     ]
    }
   ],
   "source": [
    "t1 = torch.ones(2, 3)\n",
    "t2 = t1.to(device)\n",
    "\n",
    "# log\n",
    "print(f\"t1.device: {t1.device}\")\n",
    "print(f\"t2.device: {t2.device}\")\n",
    "print('-' * 50)\n",
    "print(f\"t2:\\n{t2}\")"
   ]
  },
  {
   "cell_type": "code",
   "execution_count": 17,
   "metadata": {},
   "outputs": [
    {
     "name": "stdout",
     "output_type": "stream",
     "text": [
      "can't convert cuda:0 device type tensor to numpy. Use Tensor.cpu() to copy the tensor to host memory first.\n"
     ]
    }
   ],
   "source": [
    "t1 = torch.ones(2, 3, device= device)\n",
    "\n",
    "try:\n",
    "    n1 = t1.numpy()\n",
    "except TypeError as e:\n",
    "    print(e)"
   ]
  },
  {
   "cell_type": "code",
   "execution_count": 18,
   "metadata": {},
   "outputs": [
    {
     "name": "stdout",
     "output_type": "stream",
     "text": [
      "n2:\n",
      "[[1. 1. 1.]\n",
      " [1. 1. 1.]]\n"
     ]
    }
   ],
   "source": [
    "t1 = torch.ones(2, 3, device= device)\n",
    "\n",
    "n2 = t1.cpu().numpy()\n",
    "\n",
    "# log\n",
    "print(f\"n2:\\n{n2}\")"
   ]
  },
  {
   "cell_type": "code",
   "execution_count": 19,
   "metadata": {},
   "outputs": [
    {
     "name": "stdout",
     "output_type": "stream",
     "text": [
      "cuda:0\n",
      "cuda:0\n",
      "cuda:0\n"
     ]
    }
   ],
   "source": [
    "t1 = torch.ones(2, 3, device= device)\n",
    "t2 = torch.ones(2, 3).to(device)\n",
    "t3 = torch.ones(2, 3).cuda()\n",
    "\n",
    "# log\n",
    "print(t1.device)\n",
    "print(t2.device)\n",
    "print(t3.device)"
   ]
  },
  {
   "cell_type": "markdown",
   "metadata": {},
   "source": [
    "## Notes"
   ]
  },
  {
   "cell_type": "markdown",
   "metadata": {},
   "source": [
    "### what you see is not necessarily the actual value"
   ]
  },
  {
   "cell_type": "code",
   "execution_count": 20,
   "metadata": {},
   "outputs": [
    {
     "name": "stdout",
     "output_type": "stream",
     "text": [
      "a: 0.2484932541847229\n",
      "a.dtype: torch.float32\n",
      "--------------------------------------------------\n",
      "b: 0.2484932541847229\n",
      "type(b): <class 'float'>\n"
     ]
    }
   ],
   "source": [
    "t1 = torch.rand(size= (2, 3))\n",
    "\n",
    "a = t1[0, 0]\n",
    "b = t1[0, 0].item()\n",
    "\n",
    "# log\n",
    "print(f\"a: {a}\")\n",
    "print(f\"a.dtype: {a.dtype}\")\n",
    "print('-' * 50)\n",
    "print(f\"b: {b}\")\n",
    "print(f\"type(b): {type(b)}\")"
   ]
  },
  {
   "cell_type": "markdown",
   "metadata": {},
   "source": [
    "### torch.float32 is preferred rather than torch.float64\n",
    "   1. Memory Efficiency\n",
    "   2. Speed\n",
    "   3. Compatibility: Some deep learning libraries and models are optimized for `torch.float32` operations. Using `torch.float64` may lead to compatibility issues or slower performance in certain cases.\n",
    "\n",
    "Note:\n",
    "   - `torch.float32` often referred to as `float`\n",
    "   - `torch.float64` often referred to as `double`"
   ]
  }
 ],
 "metadata": {
  "kernelspec": {
   "display_name": "Python 3",
   "language": "python",
   "name": "python3"
  },
  "language_info": {
   "codemirror_mode": {
    "name": "ipython",
    "version": 3
   },
   "file_extension": ".py",
   "mimetype": "text/x-python",
   "name": "python",
   "nbconvert_exporter": "python",
   "pygments_lexer": "ipython3",
   "version": "3.12.2"
  }
 },
 "nbformat": 4,
 "nbformat_minor": 2
}
